{
 "cells": [
  {
   "cell_type": "code",
   "execution_count": 198,
   "id": "3e1d9814",
   "metadata": {},
   "outputs": [],
   "source": [
    "import numpy as np\n",
    "import pandas as pd\n",
    "from matplotlib import pyplot as plt\n",
    "import seaborn as sns"
   ]
  },
  {
   "cell_type": "code",
   "execution_count": 166,
   "id": "787cdd2e",
   "metadata": {},
   "outputs": [],
   "source": [
    "customerD = pd.read_csv('customer_details.csv')\n",
    "customerPD = pd.read_csv('customer_policy.csv')"
   ]
  },
  {
   "cell_type": "markdown",
   "id": "236ea317",
   "metadata": {},
   "source": [
    "## 1. Add the column names to both datasets:\n",
    "\n",
    "### i. Column Name for customer details table:"
   ]
  },
  {
   "cell_type": "code",
   "execution_count": 167,
   "id": "fd48f431",
   "metadata": {},
   "outputs": [
    {
     "data": {
      "text/plain": [
       "Index(['0', '1', '2', '3', '4', '5', '6', '7'], dtype='object')"
      ]
     },
     "execution_count": 167,
     "metadata": {},
     "output_type": "execute_result"
    }
   ],
   "source": [
    "customerD.columns"
   ]
  },
  {
   "cell_type": "code",
   "execution_count": 168,
   "id": "a855d8f9",
   "metadata": {},
   "outputs": [
    {
     "data": {
      "text/html": [
       "<div>\n",
       "<style scoped>\n",
       "    .dataframe tbody tr th:only-of-type {\n",
       "        vertical-align: middle;\n",
       "    }\n",
       "\n",
       "    .dataframe tbody tr th {\n",
       "        vertical-align: top;\n",
       "    }\n",
       "\n",
       "    .dataframe thead th {\n",
       "        text-align: right;\n",
       "    }\n",
       "</style>\n",
       "<table border=\"1\" class=\"dataframe\">\n",
       "  <thead>\n",
       "    <tr style=\"text-align: right;\">\n",
       "      <th></th>\n",
       "      <th>customer_id</th>\n",
       "      <th>Gender</th>\n",
       "      <th>age</th>\n",
       "      <th>driving licence present</th>\n",
       "      <th>region code</th>\n",
       "      <th>previously insured</th>\n",
       "      <th>vehicle age</th>\n",
       "      <th>vehicle damage</th>\n",
       "    </tr>\n",
       "  </thead>\n",
       "  <tbody>\n",
       "    <tr>\n",
       "      <th>0</th>\n",
       "      <td>1.0</td>\n",
       "      <td>Male</td>\n",
       "      <td>44.0</td>\n",
       "      <td>1.0</td>\n",
       "      <td>28.0</td>\n",
       "      <td>0.0</td>\n",
       "      <td>&gt; 2 Years</td>\n",
       "      <td>Yes</td>\n",
       "    </tr>\n",
       "    <tr>\n",
       "      <th>1</th>\n",
       "      <td>2.0</td>\n",
       "      <td>Male</td>\n",
       "      <td>76.0</td>\n",
       "      <td>1.0</td>\n",
       "      <td>3.0</td>\n",
       "      <td>0.0</td>\n",
       "      <td>1-2 Year</td>\n",
       "      <td>No</td>\n",
       "    </tr>\n",
       "    <tr>\n",
       "      <th>2</th>\n",
       "      <td>3.0</td>\n",
       "      <td>Male</td>\n",
       "      <td>47.0</td>\n",
       "      <td>1.0</td>\n",
       "      <td>28.0</td>\n",
       "      <td>0.0</td>\n",
       "      <td>&gt; 2 Years</td>\n",
       "      <td>Yes</td>\n",
       "    </tr>\n",
       "    <tr>\n",
       "      <th>3</th>\n",
       "      <td>4.0</td>\n",
       "      <td>Male</td>\n",
       "      <td>21.0</td>\n",
       "      <td>1.0</td>\n",
       "      <td>11.0</td>\n",
       "      <td>1.0</td>\n",
       "      <td>&lt; 1 Year</td>\n",
       "      <td>No</td>\n",
       "    </tr>\n",
       "    <tr>\n",
       "      <th>4</th>\n",
       "      <td>5.0</td>\n",
       "      <td>Female</td>\n",
       "      <td>29.0</td>\n",
       "      <td>1.0</td>\n",
       "      <td>41.0</td>\n",
       "      <td>1.0</td>\n",
       "      <td>&lt; 1 Year</td>\n",
       "      <td>No</td>\n",
       "    </tr>\n",
       "    <tr>\n",
       "      <th>...</th>\n",
       "      <td>...</td>\n",
       "      <td>...</td>\n",
       "      <td>...</td>\n",
       "      <td>...</td>\n",
       "      <td>...</td>\n",
       "      <td>...</td>\n",
       "      <td>...</td>\n",
       "      <td>...</td>\n",
       "    </tr>\n",
       "    <tr>\n",
       "      <th>183034</th>\n",
       "      <td>183035.0</td>\n",
       "      <td>Female</td>\n",
       "      <td>23.0</td>\n",
       "      <td>1.0</td>\n",
       "      <td>7.0</td>\n",
       "      <td>1.0</td>\n",
       "      <td>&lt; 1 Year</td>\n",
       "      <td>No</td>\n",
       "    </tr>\n",
       "    <tr>\n",
       "      <th>183035</th>\n",
       "      <td>183036.0</td>\n",
       "      <td>Female</td>\n",
       "      <td>25.0</td>\n",
       "      <td>1.0</td>\n",
       "      <td>34.0</td>\n",
       "      <td>0.0</td>\n",
       "      <td>&lt; 1 Year</td>\n",
       "      <td>No</td>\n",
       "    </tr>\n",
       "    <tr>\n",
       "      <th>183036</th>\n",
       "      <td>183037.0</td>\n",
       "      <td>Male</td>\n",
       "      <td>21.0</td>\n",
       "      <td>1.0</td>\n",
       "      <td>46.0</td>\n",
       "      <td>1.0</td>\n",
       "      <td>&lt; 1 Year</td>\n",
       "      <td>No</td>\n",
       "    </tr>\n",
       "    <tr>\n",
       "      <th>183037</th>\n",
       "      <td>183038.0</td>\n",
       "      <td>Male</td>\n",
       "      <td>32.0</td>\n",
       "      <td>1.0</td>\n",
       "      <td>18.0</td>\n",
       "      <td>1.0</td>\n",
       "      <td>&lt; 1 Year</td>\n",
       "      <td>No</td>\n",
       "    </tr>\n",
       "    <tr>\n",
       "      <th>183038</th>\n",
       "      <td>183039.0</td>\n",
       "      <td>Female</td>\n",
       "      <td>20.0</td>\n",
       "      <td>NaN</td>\n",
       "      <td>NaN</td>\n",
       "      <td>NaN</td>\n",
       "      <td>NaN</td>\n",
       "      <td>NaN</td>\n",
       "    </tr>\n",
       "  </tbody>\n",
       "</table>\n",
       "<p>183039 rows × 8 columns</p>\n",
       "</div>"
      ],
      "text/plain": [
       "        customer_id  Gender   age  driving licence present  region code  \\\n",
       "0               1.0    Male  44.0                      1.0         28.0   \n",
       "1               2.0    Male  76.0                      1.0          3.0   \n",
       "2               3.0    Male  47.0                      1.0         28.0   \n",
       "3               4.0    Male  21.0                      1.0         11.0   \n",
       "4               5.0  Female  29.0                      1.0         41.0   \n",
       "...             ...     ...   ...                      ...          ...   \n",
       "183034     183035.0  Female  23.0                      1.0          7.0   \n",
       "183035     183036.0  Female  25.0                      1.0         34.0   \n",
       "183036     183037.0    Male  21.0                      1.0         46.0   \n",
       "183037     183038.0    Male  32.0                      1.0         18.0   \n",
       "183038     183039.0  Female  20.0                      NaN          NaN   \n",
       "\n",
       "        previously insured vehicle age vehicle damage  \n",
       "0                      0.0   > 2 Years            Yes  \n",
       "1                      0.0    1-2 Year             No  \n",
       "2                      0.0   > 2 Years            Yes  \n",
       "3                      1.0    < 1 Year             No  \n",
       "4                      1.0    < 1 Year             No  \n",
       "...                    ...         ...            ...  \n",
       "183034                 1.0    < 1 Year             No  \n",
       "183035                 0.0    < 1 Year             No  \n",
       "183036                 1.0    < 1 Year             No  \n",
       "183037                 1.0    < 1 Year             No  \n",
       "183038                 NaN         NaN            NaN  \n",
       "\n",
       "[183039 rows x 8 columns]"
      ]
     },
     "execution_count": 168,
     "metadata": {},
     "output_type": "execute_result"
    }
   ],
   "source": [
    "customerD.rename(columns={'0':'customer_id','1':'Gender','2':'age','3':'driving licence present','4':'region code','5':'previously insured','6':'vehicle age','7':'vehicle damage'})"
   ]
  },
  {
   "cell_type": "code",
   "execution_count": 169,
   "id": "96b122d6",
   "metadata": {},
   "outputs": [],
   "source": [
    "customerD = customerD.rename(columns={'0':'customer_id','1':'Gender','2':'age','3':'driving licence present','4':'region code','5':'previously insured','6':'vehicle age','7':'vehicle damage'})"
   ]
  },
  {
   "cell_type": "code",
   "execution_count": 170,
   "id": "1b3730bc",
   "metadata": {},
   "outputs": [
    {
     "data": {
      "text/html": [
       "<div>\n",
       "<style scoped>\n",
       "    .dataframe tbody tr th:only-of-type {\n",
       "        vertical-align: middle;\n",
       "    }\n",
       "\n",
       "    .dataframe tbody tr th {\n",
       "        vertical-align: top;\n",
       "    }\n",
       "\n",
       "    .dataframe thead th {\n",
       "        text-align: right;\n",
       "    }\n",
       "</style>\n",
       "<table border=\"1\" class=\"dataframe\">\n",
       "  <thead>\n",
       "    <tr style=\"text-align: right;\">\n",
       "      <th></th>\n",
       "      <th>customer_id</th>\n",
       "      <th>Gender</th>\n",
       "      <th>age</th>\n",
       "      <th>driving licence present</th>\n",
       "      <th>region code</th>\n",
       "      <th>previously insured</th>\n",
       "      <th>vehicle age</th>\n",
       "      <th>vehicle damage</th>\n",
       "    </tr>\n",
       "  </thead>\n",
       "  <tbody>\n",
       "    <tr>\n",
       "      <th>0</th>\n",
       "      <td>1.0</td>\n",
       "      <td>Male</td>\n",
       "      <td>44.0</td>\n",
       "      <td>1.0</td>\n",
       "      <td>28.0</td>\n",
       "      <td>0.0</td>\n",
       "      <td>&gt; 2 Years</td>\n",
       "      <td>Yes</td>\n",
       "    </tr>\n",
       "    <tr>\n",
       "      <th>1</th>\n",
       "      <td>2.0</td>\n",
       "      <td>Male</td>\n",
       "      <td>76.0</td>\n",
       "      <td>1.0</td>\n",
       "      <td>3.0</td>\n",
       "      <td>0.0</td>\n",
       "      <td>1-2 Year</td>\n",
       "      <td>No</td>\n",
       "    </tr>\n",
       "  </tbody>\n",
       "</table>\n",
       "</div>"
      ],
      "text/plain": [
       "   customer_id Gender   age  driving licence present  region code  \\\n",
       "0          1.0   Male  44.0                      1.0         28.0   \n",
       "1          2.0   Male  76.0                      1.0          3.0   \n",
       "\n",
       "   previously insured vehicle age vehicle damage  \n",
       "0                 0.0   > 2 Years            Yes  \n",
       "1                 0.0    1-2 Year             No  "
      ]
     },
     "execution_count": 170,
     "metadata": {},
     "output_type": "execute_result"
    }
   ],
   "source": [
    "customerD.head(2)"
   ]
  },
  {
   "cell_type": "code",
   "execution_count": 171,
   "id": "59c513ca",
   "metadata": {},
   "outputs": [
    {
     "data": {
      "text/plain": [
       "Index(['customer_id', 'Gender', 'age', 'driving licence present',\n",
       "       'region code', 'previously insured', 'vehicle age', 'vehicle damage'],\n",
       "      dtype='object')"
      ]
     },
     "execution_count": 171,
     "metadata": {},
     "output_type": "execute_result"
    }
   ],
   "source": [
    "customerD.columns"
   ]
  },
  {
   "cell_type": "markdown",
   "id": "6331eb23",
   "metadata": {},
   "source": [
    "## ii. Column Name for customer_policy table:"
   ]
  },
  {
   "cell_type": "code",
   "execution_count": 176,
   "id": "32f5af4d",
   "metadata": {},
   "outputs": [
    {
     "data": {
      "text/plain": [
       "Index(['0', '1', '2', '3', '4'], dtype='object')"
      ]
     },
     "execution_count": 176,
     "metadata": {},
     "output_type": "execute_result"
    }
   ],
   "source": [
    "customerPD.columns"
   ]
  },
  {
   "cell_type": "code",
   "execution_count": 177,
   "id": "be26987d",
   "metadata": {},
   "outputs": [
    {
     "data": {
      "text/html": [
       "<div>\n",
       "<style scoped>\n",
       "    .dataframe tbody tr th:only-of-type {\n",
       "        vertical-align: middle;\n",
       "    }\n",
       "\n",
       "    .dataframe tbody tr th {\n",
       "        vertical-align: top;\n",
       "    }\n",
       "\n",
       "    .dataframe thead th {\n",
       "        text-align: right;\n",
       "    }\n",
       "</style>\n",
       "<table border=\"1\" class=\"dataframe\">\n",
       "  <thead>\n",
       "    <tr style=\"text-align: right;\">\n",
       "      <th></th>\n",
       "      <th>customer_id</th>\n",
       "      <th>annual premium (in Rs)</th>\n",
       "      <th>sales channel code</th>\n",
       "      <th>vintage</th>\n",
       "      <th>response</th>\n",
       "    </tr>\n",
       "  </thead>\n",
       "  <tbody>\n",
       "    <tr>\n",
       "      <th>0</th>\n",
       "      <td>1.0</td>\n",
       "      <td>40454.0</td>\n",
       "      <td>26.0</td>\n",
       "      <td>217.0</td>\n",
       "      <td>1.0</td>\n",
       "    </tr>\n",
       "    <tr>\n",
       "      <th>1</th>\n",
       "      <td>2.0</td>\n",
       "      <td>33536.0</td>\n",
       "      <td>26.0</td>\n",
       "      <td>183.0</td>\n",
       "      <td>0.0</td>\n",
       "    </tr>\n",
       "    <tr>\n",
       "      <th>2</th>\n",
       "      <td>3.0</td>\n",
       "      <td>38294.0</td>\n",
       "      <td>26.0</td>\n",
       "      <td>27.0</td>\n",
       "      <td>1.0</td>\n",
       "    </tr>\n",
       "    <tr>\n",
       "      <th>3</th>\n",
       "      <td>4.0</td>\n",
       "      <td>28619.0</td>\n",
       "      <td>152.0</td>\n",
       "      <td>203.0</td>\n",
       "      <td>0.0</td>\n",
       "    </tr>\n",
       "    <tr>\n",
       "      <th>4</th>\n",
       "      <td>5.0</td>\n",
       "      <td>27496.0</td>\n",
       "      <td>152.0</td>\n",
       "      <td>39.0</td>\n",
       "      <td>0.0</td>\n",
       "    </tr>\n",
       "    <tr>\n",
       "      <th>...</th>\n",
       "      <td>...</td>\n",
       "      <td>...</td>\n",
       "      <td>...</td>\n",
       "      <td>...</td>\n",
       "      <td>...</td>\n",
       "    </tr>\n",
       "    <tr>\n",
       "      <th>381104</th>\n",
       "      <td>381105.0</td>\n",
       "      <td>30170.0</td>\n",
       "      <td>26.0</td>\n",
       "      <td>88.0</td>\n",
       "      <td>0.0</td>\n",
       "    </tr>\n",
       "    <tr>\n",
       "      <th>381105</th>\n",
       "      <td>381106.0</td>\n",
       "      <td>40016.0</td>\n",
       "      <td>152.0</td>\n",
       "      <td>131.0</td>\n",
       "      <td>0.0</td>\n",
       "    </tr>\n",
       "    <tr>\n",
       "      <th>381106</th>\n",
       "      <td>381107.0</td>\n",
       "      <td>35118.0</td>\n",
       "      <td>160.0</td>\n",
       "      <td>161.0</td>\n",
       "      <td>0.0</td>\n",
       "    </tr>\n",
       "    <tr>\n",
       "      <th>381107</th>\n",
       "      <td>381108.0</td>\n",
       "      <td>44617.0</td>\n",
       "      <td>124.0</td>\n",
       "      <td>74.0</td>\n",
       "      <td>0.0</td>\n",
       "    </tr>\n",
       "    <tr>\n",
       "      <th>381108</th>\n",
       "      <td>381109.0</td>\n",
       "      <td>41777.0</td>\n",
       "      <td>26.0</td>\n",
       "      <td>237.0</td>\n",
       "      <td>0.0</td>\n",
       "    </tr>\n",
       "  </tbody>\n",
       "</table>\n",
       "<p>381109 rows × 5 columns</p>\n",
       "</div>"
      ],
      "text/plain": [
       "        customer_id  annual premium (in Rs)  sales channel code  vintage  \\\n",
       "0               1.0                 40454.0                26.0    217.0   \n",
       "1               2.0                 33536.0                26.0    183.0   \n",
       "2               3.0                 38294.0                26.0     27.0   \n",
       "3               4.0                 28619.0               152.0    203.0   \n",
       "4               5.0                 27496.0               152.0     39.0   \n",
       "...             ...                     ...                 ...      ...   \n",
       "381104     381105.0                 30170.0                26.0     88.0   \n",
       "381105     381106.0                 40016.0               152.0    131.0   \n",
       "381106     381107.0                 35118.0               160.0    161.0   \n",
       "381107     381108.0                 44617.0               124.0     74.0   \n",
       "381108     381109.0                 41777.0                26.0    237.0   \n",
       "\n",
       "        response  \n",
       "0            1.0  \n",
       "1            0.0  \n",
       "2            1.0  \n",
       "3            0.0  \n",
       "4            0.0  \n",
       "...          ...  \n",
       "381104       0.0  \n",
       "381105       0.0  \n",
       "381106       0.0  \n",
       "381107       0.0  \n",
       "381108       0.0  \n",
       "\n",
       "[381109 rows x 5 columns]"
      ]
     },
     "execution_count": 177,
     "metadata": {},
     "output_type": "execute_result"
    }
   ],
   "source": [
    "customerPD.rename(columns={'0':'customer_id','1':'annual premium (in Rs)','2':'sales channel code','3':'vintage','4':'response'})"
   ]
  },
  {
   "cell_type": "code",
   "execution_count": 178,
   "id": "7a33dbe8",
   "metadata": {},
   "outputs": [],
   "source": [
    "customerPD =(customerPD.rename(columns={'0':'customer_id','1':'annual premium (in Rs)','2':'sales channel code','3':'vintage','4':'response'}))"
   ]
  },
  {
   "cell_type": "code",
   "execution_count": 179,
   "id": "be8eaf06",
   "metadata": {},
   "outputs": [
    {
     "data": {
      "text/plain": [
       "Index(['customer_id', 'annual premium (in Rs)', 'sales channel code',\n",
       "       'vintage', 'response'],\n",
       "      dtype='object')"
      ]
     },
     "execution_count": 179,
     "metadata": {},
     "output_type": "execute_result"
    }
   ],
   "source": [
    "customerPD.columns"
   ]
  },
  {
   "cell_type": "markdown",
   "id": "e0e878eb",
   "metadata": {},
   "source": [
    "## 2. Checking and Cleaning Data Quality:\n",
    "\n",
    "### i. Null values\n",
    "\n",
    "##### Generate a summary of count of all the null values column wise\n",
    "##### Drop Null values for customer_id because central tendencies for id’s is not feasible.\n",
    "##### Replace all null values for numeric columns by mean. \n",
    "##### Replace all null values for Categorical value by mode."
   ]
  },
  {
   "cell_type": "code",
   "execution_count": 21,
   "id": "6f67aac5",
   "metadata": {},
   "outputs": [
    {
     "data": {
      "text/plain": [
       "customer_id                175\n",
       "Gender                     175\n",
       "age                        196\n",
       "driving licence present    201\n",
       "region code                199\n",
       "region code                190\n",
       "previously insured         169\n",
       "vehicle age                202\n",
       "dtype: int64"
      ]
     },
     "execution_count": 21,
     "metadata": {},
     "output_type": "execute_result"
    }
   ],
   "source": [
    "customerD.isnull().sum()"
   ]
  },
  {
   "cell_type": "code",
   "execution_count": 22,
   "id": "ff4a14c1",
   "metadata": {},
   "outputs": [
    {
     "data": {
      "text/plain": [
       "customer_id               387\n",
       "annual premium (in Rs)    346\n",
       "sales channel code        400\n",
       "vintage                   388\n",
       "response                  361\n",
       "dtype: int64"
      ]
     },
     "execution_count": 22,
     "metadata": {},
     "output_type": "execute_result"
    }
   ],
   "source": [
    "customerPD.isnull().sum()"
   ]
  },
  {
   "cell_type": "code",
   "execution_count": 23,
   "id": "35cfc6d6",
   "metadata": {},
   "outputs": [
    {
     "data": {
      "text/plain": [
       "175"
      ]
     },
     "execution_count": 23,
     "metadata": {},
     "output_type": "execute_result"
    }
   ],
   "source": [
    "customerD['customer_id'].isna().sum()"
   ]
  },
  {
   "cell_type": "code",
   "execution_count": 24,
   "id": "9ff8f34c",
   "metadata": {},
   "outputs": [
    {
     "data": {
      "text/plain": [
       "387"
      ]
     },
     "execution_count": 24,
     "metadata": {},
     "output_type": "execute_result"
    }
   ],
   "source": [
    "customerPD['customer_id'].isna().sum()"
   ]
  },
  {
   "cell_type": "code",
   "execution_count": 25,
   "id": "867fbfef",
   "metadata": {},
   "outputs": [
    {
     "data": {
      "text/plain": [
       "182864"
      ]
     },
     "execution_count": 25,
     "metadata": {},
     "output_type": "execute_result"
    }
   ],
   "source": [
    "customerD['customer_id'].count()"
   ]
  },
  {
   "cell_type": "code",
   "execution_count": 26,
   "id": "857637f6",
   "metadata": {},
   "outputs": [
    {
     "data": {
      "text/plain": [
       "380722"
      ]
     },
     "execution_count": 26,
     "metadata": {},
     "output_type": "execute_result"
    }
   ],
   "source": [
    "customerPD['customer_id'].count()"
   ]
  },
  {
   "cell_type": "markdown",
   "id": "02697c70",
   "metadata": {},
   "source": [
    "### Replace all null values for numeric columns by mean"
   ]
  },
  {
   "cell_type": "code",
   "execution_count": 28,
   "id": "fa24bfee",
   "metadata": {},
   "outputs": [],
   "source": [
    "## Drop null values for customer_id\n",
    "\n",
    "customerPD = customerPD.dropna(subset=['customer_id'])"
   ]
  },
  {
   "cell_type": "code",
   "execution_count": 37,
   "id": "1197ac7d",
   "metadata": {},
   "outputs": [
    {
     "data": {
      "text/plain": [
       "190547.49166320832"
      ]
     },
     "execution_count": 37,
     "metadata": {},
     "output_type": "execute_result"
    }
   ],
   "source": [
    "customerPD['customer_id'].mean()"
   ]
  },
  {
   "cell_type": "code",
   "execution_count": 29,
   "id": "a3627559",
   "metadata": {},
   "outputs": [],
   "source": [
    "customerPD['annual premium (in Rs)'].fillna((customerPD['annual premium (in Rs)'].mean()),inplace=True)"
   ]
  },
  {
   "cell_type": "code",
   "execution_count": 30,
   "id": "0db3d875",
   "metadata": {},
   "outputs": [
    {
     "data": {
      "text/plain": [
       "30563.99977390893"
      ]
     },
     "execution_count": 30,
     "metadata": {},
     "output_type": "execute_result"
    }
   ],
   "source": [
    "customerPD['annual premium (in Rs)'].mean()"
   ]
  },
  {
   "cell_type": "code",
   "execution_count": 33,
   "id": "d77eb5b8",
   "metadata": {},
   "outputs": [],
   "source": [
    "customerPD['sales channel code'].fillna((customerPD['sales channel code'].mean()),inplace=True)"
   ]
  },
  {
   "cell_type": "code",
   "execution_count": 34,
   "id": "3c395947",
   "metadata": {},
   "outputs": [
    {
     "data": {
      "text/plain": [
       "112.03668733336546"
      ]
     },
     "execution_count": 34,
     "metadata": {},
     "output_type": "execute_result"
    }
   ],
   "source": [
    "customerPD['sales channel code'].mean()"
   ]
  },
  {
   "cell_type": "code",
   "execution_count": 35,
   "id": "74e4ce4b",
   "metadata": {},
   "outputs": [],
   "source": [
    "customerPD['vintage'].fillna((customerPD['vintage'].mean()),inplace=True)"
   ]
  },
  {
   "cell_type": "code",
   "execution_count": 36,
   "id": "4a0262e1",
   "metadata": {},
   "outputs": [
    {
     "data": {
      "text/plain": [
       "154.34719220474696"
      ]
     },
     "execution_count": 36,
     "metadata": {},
     "output_type": "execute_result"
    }
   ],
   "source": [
    "customerPD['vintage'].mean()"
   ]
  },
  {
   "cell_type": "code",
   "execution_count": 38,
   "id": "dfcba4b1",
   "metadata": {},
   "outputs": [],
   "source": [
    "customerPD['response'].fillna((customerPD['response'].mean()),inplace=True)"
   ]
  },
  {
   "cell_type": "code",
   "execution_count": 39,
   "id": "5106a66c",
   "metadata": {},
   "outputs": [
    {
     "data": {
      "text/plain": [
       "0.12252570584260679"
      ]
     },
     "execution_count": 39,
     "metadata": {},
     "output_type": "execute_result"
    }
   ],
   "source": [
    "customerPD['response'].mean()"
   ]
  },
  {
   "cell_type": "code",
   "execution_count": 40,
   "id": "9fe36133",
   "metadata": {},
   "outputs": [
    {
     "data": {
      "text/plain": [
       "customer_id               0\n",
       "annual premium (in Rs)    0\n",
       "sales channel code        0\n",
       "vintage                   0\n",
       "response                  0\n",
       "dtype: int64"
      ]
     },
     "execution_count": 40,
     "metadata": {},
     "output_type": "execute_result"
    }
   ],
   "source": [
    "customerPD.isnull().sum()"
   ]
  },
  {
   "cell_type": "code",
   "execution_count": 45,
   "id": "4fdb919c",
   "metadata": {},
   "outputs": [
    {
     "data": {
      "text/plain": [
       "0    175\n",
       "1    175\n",
       "2    196\n",
       "3    201\n",
       "4    199\n",
       "5    190\n",
       "6    169\n",
       "7    202\n",
       "dtype: int64"
      ]
     },
     "execution_count": 45,
     "metadata": {},
     "output_type": "execute_result"
    }
   ],
   "source": [
    "customerD.isnull().sum()"
   ]
  },
  {
   "cell_type": "code",
   "execution_count": 67,
   "id": "a53d16c3",
   "metadata": {},
   "outputs": [],
   "source": [
    "customerD=customerD.dropna(subset=['customer_id'])\n",
    "customerD=customerD.dropna(subset=['vehicle damage'])\n",
    "customerD=customerD.dropna(subset=['vehicle age'])\n",
    "customerD=customerD.dropna(subset=['previously insured'])\n",
    "customerD=customerD.dropna(subset=['region code'])\n",
    "customerD=customerD.dropna(subset=['driving licence present'])\n",
    "customerD=customerD.dropna(subset=['Gender'])\n",
    "customerD=customerD.dropna(subset=['age'])"
   ]
  },
  {
   "cell_type": "code",
   "execution_count": 69,
   "id": "20da26e2",
   "metadata": {},
   "outputs": [
    {
     "data": {
      "text/html": [
       "<div>\n",
       "<style scoped>\n",
       "    .dataframe tbody tr th:only-of-type {\n",
       "        vertical-align: middle;\n",
       "    }\n",
       "\n",
       "    .dataframe tbody tr th {\n",
       "        vertical-align: top;\n",
       "    }\n",
       "\n",
       "    .dataframe thead th {\n",
       "        text-align: right;\n",
       "    }\n",
       "</style>\n",
       "<table border=\"1\" class=\"dataframe\">\n",
       "  <thead>\n",
       "    <tr style=\"text-align: right;\">\n",
       "      <th></th>\n",
       "      <th>customer_id</th>\n",
       "      <th>Gender</th>\n",
       "      <th>age</th>\n",
       "      <th>driving licence present</th>\n",
       "      <th>region code</th>\n",
       "      <th>previously insured</th>\n",
       "      <th>vehicle age</th>\n",
       "      <th>vehicle damage</th>\n",
       "    </tr>\n",
       "  </thead>\n",
       "  <tbody>\n",
       "    <tr>\n",
       "      <th>0</th>\n",
       "      <td>1.0</td>\n",
       "      <td>Male</td>\n",
       "      <td>44.0</td>\n",
       "      <td>1.0</td>\n",
       "      <td>28.0</td>\n",
       "      <td>0.0</td>\n",
       "      <td>&gt; 2 Years</td>\n",
       "      <td>Yes</td>\n",
       "    </tr>\n",
       "    <tr>\n",
       "      <th>1</th>\n",
       "      <td>2.0</td>\n",
       "      <td>Male</td>\n",
       "      <td>76.0</td>\n",
       "      <td>1.0</td>\n",
       "      <td>3.0</td>\n",
       "      <td>0.0</td>\n",
       "      <td>1-2 Year</td>\n",
       "      <td>No</td>\n",
       "    </tr>\n",
       "  </tbody>\n",
       "</table>\n",
       "</div>"
      ],
      "text/plain": [
       "   customer_id Gender   age  driving licence present  region code  \\\n",
       "0          1.0   Male  44.0                      1.0         28.0   \n",
       "1          2.0   Male  76.0                      1.0          3.0   \n",
       "\n",
       "   previously insured vehicle age vehicle damage  \n",
       "0                 0.0   > 2 Years            Yes  \n",
       "1                 0.0    1-2 Year             No  "
      ]
     },
     "execution_count": 69,
     "metadata": {},
     "output_type": "execute_result"
    }
   ],
   "source": [
    "customerD.head(2)"
   ]
  },
  {
   "cell_type": "code",
   "execution_count": 70,
   "id": "72926d28",
   "metadata": {},
   "outputs": [
    {
     "data": {
      "text/plain": [
       "customer_id                0\n",
       "Gender                     0\n",
       "age                        0\n",
       "driving licence present    0\n",
       "region code                0\n",
       "previously insured         0\n",
       "vehicle age                0\n",
       "vehicle damage             0\n",
       "dtype: int64"
      ]
     },
     "execution_count": 70,
     "metadata": {},
     "output_type": "execute_result"
    }
   ],
   "source": [
    "customerD.isnull().sum()"
   ]
  },
  {
   "cell_type": "markdown",
   "id": "37ce9129",
   "metadata": {},
   "source": [
    "### Replace all null values for Categorical value by mode"
   ]
  },
  {
   "cell_type": "code",
   "execution_count": 172,
   "id": "a7e5d3fb",
   "metadata": {},
   "outputs": [
    {
     "data": {
      "text/plain": [
       "customer_id                175\n",
       "Gender                     175\n",
       "age                        196\n",
       "driving licence present    201\n",
       "region code                199\n",
       "previously insured         190\n",
       "vehicle age                169\n",
       "vehicle damage             202\n",
       "dtype: int64"
      ]
     },
     "execution_count": 172,
     "metadata": {},
     "output_type": "execute_result"
    }
   ],
   "source": [
    "customerD.isnull().sum()"
   ]
  },
  {
   "cell_type": "code",
   "execution_count": 173,
   "id": "08a6c737",
   "metadata": {},
   "outputs": [],
   "source": [
    "#customerD = customerD.replace(customerD.fillna((customerD.mod().iloc[0]),inplace=True),np.NaN)\n",
    "\n",
    "\n",
    "customerD['customer_id'].fillna((customerD['customer_id'].mode()), inplace=True)\n",
    "customerD['Gender'].fillna((customerD['Gender'].mode().iloc[0]), inplace=True)\n",
    "customerD['age'].fillna((customerD['age'].mode().iloc[0]), inplace=True)\n",
    "customerD['region code'].fillna((customerD['region code'].mode().iloc[0]), inplace=True)\n",
    "customerD['previously insured'].fillna((customerD['previously insured'].mode().iloc[0]), inplace=True)\n",
    "customerD['vehicle age'].fillna((customerD['vehicle age'].mode().iloc[0]), inplace=True)\n",
    "customerD['driving licence present'].fillna((customerD['driving licence present'].mode().iloc[0]), inplace=True)\n",
    "customerD['vehicle damage'].fillna((customerD['vehicle damage'].mode().iloc[0]), inplace=True)\n"
   ]
  },
  {
   "cell_type": "code",
   "execution_count": 174,
   "id": "b64ae317",
   "metadata": {},
   "outputs": [
    {
     "data": {
      "text/plain": [
       "customer_id                0\n",
       "Gender                     0\n",
       "age                        0\n",
       "driving licence present    0\n",
       "region code                0\n",
       "previously insured         0\n",
       "vehicle age                0\n",
       "vehicle damage             0\n",
       "dtype: int64"
      ]
     },
     "execution_count": 174,
     "metadata": {},
     "output_type": "execute_result"
    }
   ],
   "source": [
    "customerD.isnull().sum()"
   ]
  },
  {
   "cell_type": "code",
   "execution_count": 180,
   "id": "7046ceb5",
   "metadata": {},
   "outputs": [
    {
     "data": {
      "text/plain": [
       "customer_id               387\n",
       "annual premium (in Rs)    346\n",
       "sales channel code        400\n",
       "vintage                   388\n",
       "response                  361\n",
       "dtype: int64"
      ]
     },
     "execution_count": 180,
     "metadata": {},
     "output_type": "execute_result"
    }
   ],
   "source": [
    "customerPD.isnull().sum()"
   ]
  },
  {
   "cell_type": "code",
   "execution_count": 181,
   "id": "add11c9c",
   "metadata": {},
   "outputs": [],
   "source": [
    "customerPD['customer_id'].fillna((customerPD['customer_id'].mode().iloc[0]), inplace=True)\n",
    "customerPD['annual premium (in Rs)'].fillna((customerPD['annual premium (in Rs)'].mode().iloc[0]), inplace=True)\n",
    "customerPD['vintage'].fillna((customerPD['vintage'].mode().iloc[0]), inplace=True)\n",
    "customerPD['sales channel code'].fillna((customerPD['sales channel code'].mode().iloc[0]), inplace=True)\n",
    "customerPD['response'].fillna((customerPD['response'].mode().iloc[0]), inplace=True)"
   ]
  },
  {
   "cell_type": "code",
   "execution_count": 182,
   "id": "9ec362aa",
   "metadata": {},
   "outputs": [
    {
     "data": {
      "text/plain": [
       "customer_id               0\n",
       "annual premium (in Rs)    0\n",
       "sales channel code        0\n",
       "vintage                   0\n",
       "response                  0\n",
       "dtype: int64"
      ]
     },
     "execution_count": 182,
     "metadata": {},
     "output_type": "execute_result"
    }
   ],
   "source": [
    "customerPD.isnull().sum()"
   ]
  },
  {
   "cell_type": "markdown",
   "id": "9b63fc33",
   "metadata": {},
   "source": [
    "## ii. Outliers\n",
    "\n",
    "#### Generate a summary of count of all the outliers column wise\n",
    "#### Replace all outlier values for numeric columns by mean. \n",
    "### (Hint1: for outlier treatment use IQR method as follows:\n",
    "\n",
    "#### For example: for a column X calculate Q1 = 25th percentile and Q3 = 75th percentile then IQR = Q3 – Q1 ) then to check outlier, anything lower than a Q1 – 1.5IQR or greater than Q3 + 1.5 IQR would be an outlier\n",
    "\n",
    "### Hint2: For getting percentile value, explore pd.describe() function)\n",
    "\n",
    "#### iii. White spaces\n",
    "\n",
    "### Remove white spaces\n",
    "#### iv. case correction(lower or upper, any one) \n",
    "\n",
    "#### v. Convert nominal data (categorical) into dummies \n",
    "\n",
    "#### for future modeling use if required\n",
    "#### vi. Drop Duplicates (duplicated rows)"
   ]
  },
  {
   "cell_type": "code",
   "execution_count": 185,
   "id": "c4faac74",
   "metadata": {},
   "outputs": [
    {
     "data": {
      "text/html": [
       "<div>\n",
       "<style scoped>\n",
       "    .dataframe tbody tr th:only-of-type {\n",
       "        vertical-align: middle;\n",
       "    }\n",
       "\n",
       "    .dataframe tbody tr th {\n",
       "        vertical-align: top;\n",
       "    }\n",
       "\n",
       "    .dataframe thead th {\n",
       "        text-align: right;\n",
       "    }\n",
       "</style>\n",
       "<table border=\"1\" class=\"dataframe\">\n",
       "  <thead>\n",
       "    <tr style=\"text-align: right;\">\n",
       "      <th></th>\n",
       "      <th>customer_id</th>\n",
       "      <th>age</th>\n",
       "      <th>driving licence present</th>\n",
       "      <th>region code</th>\n",
       "      <th>previously insured</th>\n",
       "    </tr>\n",
       "  </thead>\n",
       "  <tbody>\n",
       "    <tr>\n",
       "      <th>count</th>\n",
       "      <td>183039.000000</td>\n",
       "      <td>183039.000000</td>\n",
       "      <td>183039.000000</td>\n",
       "      <td>183039.000000</td>\n",
       "      <td>183039.000000</td>\n",
       "    </tr>\n",
       "    <tr>\n",
       "      <th>mean</th>\n",
       "      <td>91520.084217</td>\n",
       "      <td>38.795432</td>\n",
       "      <td>0.997886</td>\n",
       "      <td>26.406979</td>\n",
       "      <td>0.456192</td>\n",
       "    </tr>\n",
       "    <tr>\n",
       "      <th>std</th>\n",
       "      <td>52839.001073</td>\n",
       "      <td>15.502685</td>\n",
       "      <td>0.045933</td>\n",
       "      <td>13.232307</td>\n",
       "      <td>0.498079</td>\n",
       "    </tr>\n",
       "    <tr>\n",
       "      <th>min</th>\n",
       "      <td>1.000000</td>\n",
       "      <td>20.000000</td>\n",
       "      <td>0.000000</td>\n",
       "      <td>0.000000</td>\n",
       "      <td>0.000000</td>\n",
       "    </tr>\n",
       "    <tr>\n",
       "      <th>25%</th>\n",
       "      <td>45760.500000</td>\n",
       "      <td>25.000000</td>\n",
       "      <td>1.000000</td>\n",
       "      <td>15.000000</td>\n",
       "      <td>0.000000</td>\n",
       "    </tr>\n",
       "    <tr>\n",
       "      <th>50%</th>\n",
       "      <td>91520.000000</td>\n",
       "      <td>36.000000</td>\n",
       "      <td>1.000000</td>\n",
       "      <td>28.000000</td>\n",
       "      <td>0.000000</td>\n",
       "    </tr>\n",
       "    <tr>\n",
       "      <th>75%</th>\n",
       "      <td>137279.500000</td>\n",
       "      <td>49.000000</td>\n",
       "      <td>1.000000</td>\n",
       "      <td>35.000000</td>\n",
       "      <td>1.000000</td>\n",
       "    </tr>\n",
       "    <tr>\n",
       "      <th>max</th>\n",
       "      <td>183039.000000</td>\n",
       "      <td>85.000000</td>\n",
       "      <td>1.000000</td>\n",
       "      <td>52.000000</td>\n",
       "      <td>1.000000</td>\n",
       "    </tr>\n",
       "  </tbody>\n",
       "</table>\n",
       "</div>"
      ],
      "text/plain": [
       "         customer_id            age  driving licence present    region code  \\\n",
       "count  183039.000000  183039.000000            183039.000000  183039.000000   \n",
       "mean    91520.084217      38.795432                 0.997886      26.406979   \n",
       "std     52839.001073      15.502685                 0.045933      13.232307   \n",
       "min         1.000000      20.000000                 0.000000       0.000000   \n",
       "25%     45760.500000      25.000000                 1.000000      15.000000   \n",
       "50%     91520.000000      36.000000                 1.000000      28.000000   \n",
       "75%    137279.500000      49.000000                 1.000000      35.000000   \n",
       "max    183039.000000      85.000000                 1.000000      52.000000   \n",
       "\n",
       "       previously insured  \n",
       "count       183039.000000  \n",
       "mean             0.456192  \n",
       "std              0.498079  \n",
       "min              0.000000  \n",
       "25%              0.000000  \n",
       "50%              0.000000  \n",
       "75%              1.000000  \n",
       "max              1.000000  "
      ]
     },
     "execution_count": 185,
     "metadata": {},
     "output_type": "execute_result"
    }
   ],
   "source": [
    "customerD.describe()"
   ]
  },
  {
   "cell_type": "code",
   "execution_count": 184,
   "id": "19990a36",
   "metadata": {},
   "outputs": [
    {
     "data": {
      "text/html": [
       "<div>\n",
       "<style scoped>\n",
       "    .dataframe tbody tr th:only-of-type {\n",
       "        vertical-align: middle;\n",
       "    }\n",
       "\n",
       "    .dataframe tbody tr th {\n",
       "        vertical-align: top;\n",
       "    }\n",
       "\n",
       "    .dataframe thead th {\n",
       "        text-align: right;\n",
       "    }\n",
       "</style>\n",
       "<table border=\"1\" class=\"dataframe\">\n",
       "  <thead>\n",
       "    <tr style=\"text-align: right;\">\n",
       "      <th></th>\n",
       "      <th>customer_id</th>\n",
       "      <th>annual premium (in Rs)</th>\n",
       "      <th>sales channel code</th>\n",
       "      <th>vintage</th>\n",
       "      <th>response</th>\n",
       "    </tr>\n",
       "  </thead>\n",
       "  <tbody>\n",
       "    <tr>\n",
       "      <th>count</th>\n",
       "      <td>381109.000000</td>\n",
       "      <td>381109.000000</td>\n",
       "      <td>381109.000000</td>\n",
       "      <td>381109.000000</td>\n",
       "      <td>381109.000000</td>\n",
       "    </tr>\n",
       "    <tr>\n",
       "      <th>mean</th>\n",
       "      <td>190353.999795</td>\n",
       "      <td>30538.339916</td>\n",
       "      <td>112.077697</td>\n",
       "      <td>154.445933</td>\n",
       "      <td>0.122427</td>\n",
       "    </tr>\n",
       "    <tr>\n",
       "      <th>std</th>\n",
       "      <td>110125.306815</td>\n",
       "      <td>17213.019588</td>\n",
       "      <td>54.191941</td>\n",
       "      <td>83.689815</td>\n",
       "      <td>0.327779</td>\n",
       "    </tr>\n",
       "    <tr>\n",
       "      <th>min</th>\n",
       "      <td>1.000000</td>\n",
       "      <td>2630.000000</td>\n",
       "      <td>1.000000</td>\n",
       "      <td>10.000000</td>\n",
       "      <td>0.000000</td>\n",
       "    </tr>\n",
       "    <tr>\n",
       "      <th>25%</th>\n",
       "      <td>94986.000000</td>\n",
       "      <td>24374.000000</td>\n",
       "      <td>29.000000</td>\n",
       "      <td>82.000000</td>\n",
       "      <td>0.000000</td>\n",
       "    </tr>\n",
       "    <tr>\n",
       "      <th>50%</th>\n",
       "      <td>190342.000000</td>\n",
       "      <td>31657.000000</td>\n",
       "      <td>136.000000</td>\n",
       "      <td>154.000000</td>\n",
       "      <td>0.000000</td>\n",
       "    </tr>\n",
       "    <tr>\n",
       "      <th>75%</th>\n",
       "      <td>285722.000000</td>\n",
       "      <td>39391.000000</td>\n",
       "      <td>152.000000</td>\n",
       "      <td>227.000000</td>\n",
       "      <td>0.000000</td>\n",
       "    </tr>\n",
       "    <tr>\n",
       "      <th>max</th>\n",
       "      <td>381109.000000</td>\n",
       "      <td>540165.000000</td>\n",
       "      <td>163.000000</td>\n",
       "      <td>299.000000</td>\n",
       "      <td>1.000000</td>\n",
       "    </tr>\n",
       "  </tbody>\n",
       "</table>\n",
       "</div>"
      ],
      "text/plain": [
       "         customer_id  annual premium (in Rs)  sales channel code  \\\n",
       "count  381109.000000           381109.000000       381109.000000   \n",
       "mean   190353.999795            30538.339916          112.077697   \n",
       "std    110125.306815            17213.019588           54.191941   \n",
       "min         1.000000             2630.000000            1.000000   \n",
       "25%     94986.000000            24374.000000           29.000000   \n",
       "50%    190342.000000            31657.000000          136.000000   \n",
       "75%    285722.000000            39391.000000          152.000000   \n",
       "max    381109.000000           540165.000000          163.000000   \n",
       "\n",
       "             vintage       response  \n",
       "count  381109.000000  381109.000000  \n",
       "mean      154.445933       0.122427  \n",
       "std        83.689815       0.327779  \n",
       "min        10.000000       0.000000  \n",
       "25%        82.000000       0.000000  \n",
       "50%       154.000000       0.000000  \n",
       "75%       227.000000       0.000000  \n",
       "max       299.000000       1.000000  "
      ]
     },
     "execution_count": 184,
     "metadata": {},
     "output_type": "execute_result"
    }
   ],
   "source": [
    "customerPD.describe()"
   ]
  },
  {
   "cell_type": "code",
   "execution_count": 183,
   "id": "d64ae803",
   "metadata": {},
   "outputs": [
    {
     "name": "stdout",
     "output_type": "stream",
     "text": [
      "customer_id               190736.0\n",
      "annual premium (in Rs)     15017.0\n",
      "sales channel code           123.0\n",
      "vintage                      145.0\n",
      "response                       0.0\n",
      "dtype: float64\n"
     ]
    }
   ],
   "source": [
    "Q1 = customerPD.quantile(0.25)\n",
    "\n",
    "Q3 = customerPD.quantile(0.75)\n",
    "\n",
    "IQR = Q3 - Q1\n",
    "\n",
    "print(IQR)"
   ]
  },
  {
   "cell_type": "code",
   "execution_count": 188,
   "id": "899d2bb0",
   "metadata": {},
   "outputs": [],
   "source": [
    "customerD=customerD.rename(columns={'driving licence present':'driving_licence_present','previously insured':'previously_insured', 'vehicle age':'vehicle_age', 'vehicle damage':'vehicle_damage'})"
   ]
  },
  {
   "cell_type": "code",
   "execution_count": 189,
   "id": "5aeceee0",
   "metadata": {},
   "outputs": [],
   "source": [
    "Gender = {'Male': 0, 'Female': 1}\n",
    "driving_license_present = {0: 0, 1: 1}\n",
    "previously_insured = {0: 1, 1: 0}\n",
    "vehicle_age = {'> 2 Years': 2, '1-2 Year': 1, '< 1 Year': 0}\n",
    "vehicle_damage = {'Yes': 1, 'No': 0}\n",
    "\n",
    "customerD['Gender'] = customerD['Gender'].map(Gender)\n",
    "#customerD['driving_license_present'] = customerD['driving_license_present'].map(driving_license_present)\n",
    "customerD['previously_insured'] = customerD['previously_insured'].map(previously_insured)\n",
    "customerD['vehicle_age'] = customerD['vehicle_age'].map(vehicle_age)\n",
    "customerD['vehicle_damage'] = customerD['vehicle_damage'].map(vehicle_damage)"
   ]
  },
  {
   "cell_type": "code",
   "execution_count": 190,
   "id": "76ed97bf",
   "metadata": {},
   "outputs": [
    {
     "data": {
      "text/html": [
       "<div>\n",
       "<style scoped>\n",
       "    .dataframe tbody tr th:only-of-type {\n",
       "        vertical-align: middle;\n",
       "    }\n",
       "\n",
       "    .dataframe tbody tr th {\n",
       "        vertical-align: top;\n",
       "    }\n",
       "\n",
       "    .dataframe thead th {\n",
       "        text-align: right;\n",
       "    }\n",
       "</style>\n",
       "<table border=\"1\" class=\"dataframe\">\n",
       "  <thead>\n",
       "    <tr style=\"text-align: right;\">\n",
       "      <th></th>\n",
       "      <th>customer_id</th>\n",
       "      <th>Gender</th>\n",
       "      <th>age</th>\n",
       "      <th>driving_licence_present</th>\n",
       "      <th>region code</th>\n",
       "      <th>previously_insured</th>\n",
       "      <th>vehicle_age</th>\n",
       "      <th>vehicle_damage</th>\n",
       "    </tr>\n",
       "  </thead>\n",
       "  <tbody>\n",
       "    <tr>\n",
       "      <th>0</th>\n",
       "      <td>1.0</td>\n",
       "      <td>0</td>\n",
       "      <td>44.0</td>\n",
       "      <td>1.0</td>\n",
       "      <td>28.0</td>\n",
       "      <td>1</td>\n",
       "      <td>2</td>\n",
       "      <td>1</td>\n",
       "    </tr>\n",
       "    <tr>\n",
       "      <th>1</th>\n",
       "      <td>2.0</td>\n",
       "      <td>0</td>\n",
       "      <td>76.0</td>\n",
       "      <td>1.0</td>\n",
       "      <td>3.0</td>\n",
       "      <td>1</td>\n",
       "      <td>1</td>\n",
       "      <td>0</td>\n",
       "    </tr>\n",
       "  </tbody>\n",
       "</table>\n",
       "</div>"
      ],
      "text/plain": [
       "   customer_id  Gender   age  driving_licence_present  region code  \\\n",
       "0          1.0       0  44.0                      1.0         28.0   \n",
       "1          2.0       0  76.0                      1.0          3.0   \n",
       "\n",
       "   previously_insured  vehicle_age  vehicle_damage  \n",
       "0                   1            2               1  \n",
       "1                   1            1               0  "
      ]
     },
     "execution_count": 190,
     "metadata": {},
     "output_type": "execute_result"
    }
   ],
   "source": [
    "customerD.head(2)"
   ]
  },
  {
   "cell_type": "code",
   "execution_count": 191,
   "id": "ce8466e7",
   "metadata": {},
   "outputs": [
    {
     "name": "stderr",
     "output_type": "stream",
     "text": [
      "D:\\Skill Lync DS HARESH\\lib\\site-packages\\seaborn\\_decorators.py:36: FutureWarning: Pass the following variable as a keyword arg: x. From version 0.12, the only valid positional argument will be `data`, and passing other arguments without an explicit keyword will result in an error or misinterpretation.\n",
      "  warnings.warn(\n"
     ]
    },
    {
     "data": {
      "text/plain": [
       "<AxesSubplot:xlabel='annual premium (in Rs)'>"
      ]
     },
     "execution_count": 191,
     "metadata": {},
     "output_type": "execute_result"
    },
    {
     "data": {
      "image/png": "[encoded data removed]",
      "text/plain": [
       "<Figure size 432x288 with 1 Axes>"
      ]
     },
     "metadata": {
      "needs_background": "light"
     },
     "output_type": "display_data"
    }
   ],
   "source": [
    "sns.boxplot(customerPD['annual premium (in Rs)'])"
   ]
  },
  {
   "cell_type": "code",
   "execution_count": 194,
   "id": "5a1f9ef1",
   "metadata": {},
   "outputs": [],
   "source": [
    "percentile25 = customerPD['annual premium (in Rs)'].quantile(0.25)\n",
    "percentile75 = customerPD['annual premium (in Rs)'].quantile(0.75)\n",
    "\n",
    "iqr = np.subtract(*np.percentile(1, [75, 25]))\n",
    "upper_limit = percentile75 + 1.5 * iqr\n",
    "lower_limit = percentile25 - 1.5 * iqr"
   ]
  },
  {
   "cell_type": "code",
   "execution_count": 195,
   "id": "df4218ed",
   "metadata": {},
   "outputs": [
    {
     "data": {
      "text/html": [
       "<div>\n",
       "<style scoped>\n",
       "    .dataframe tbody tr th:only-of-type {\n",
       "        vertical-align: middle;\n",
       "    }\n",
       "\n",
       "    .dataframe tbody tr th {\n",
       "        vertical-align: top;\n",
       "    }\n",
       "\n",
       "    .dataframe thead th {\n",
       "        text-align: right;\n",
       "    }\n",
       "</style>\n",
       "<table border=\"1\" class=\"dataframe\">\n",
       "  <thead>\n",
       "    <tr style=\"text-align: right;\">\n",
       "      <th></th>\n",
       "      <th>customer_id</th>\n",
       "      <th>annual premium (in Rs)</th>\n",
       "      <th>sales channel code</th>\n",
       "      <th>vintage</th>\n",
       "      <th>response</th>\n",
       "    </tr>\n",
       "  </thead>\n",
       "  <tbody>\n",
       "    <tr>\n",
       "      <th>5</th>\n",
       "      <td>6.0</td>\n",
       "      <td>2630.0</td>\n",
       "      <td>160.0</td>\n",
       "      <td>176.0</td>\n",
       "      <td>0.0</td>\n",
       "    </tr>\n",
       "    <tr>\n",
       "      <th>6</th>\n",
       "      <td>7.0</td>\n",
       "      <td>23367.0</td>\n",
       "      <td>152.0</td>\n",
       "      <td>249.0</td>\n",
       "      <td>0.0</td>\n",
       "    </tr>\n",
       "    <tr>\n",
       "      <th>15</th>\n",
       "      <td>16.0</td>\n",
       "      <td>2630.0</td>\n",
       "      <td>156.0</td>\n",
       "      <td>147.0</td>\n",
       "      <td>1.0</td>\n",
       "    </tr>\n",
       "    <tr>\n",
       "      <th>27</th>\n",
       "      <td>28.0</td>\n",
       "      <td>19135.0</td>\n",
       "      <td>152.0</td>\n",
       "      <td>57.0</td>\n",
       "      <td>0.0</td>\n",
       "    </tr>\n",
       "    <tr>\n",
       "      <th>30</th>\n",
       "      <td>31.0</td>\n",
       "      <td>2630.0</td>\n",
       "      <td>160.0</td>\n",
       "      <td>136.0</td>\n",
       "      <td>0.0</td>\n",
       "    </tr>\n",
       "    <tr>\n",
       "      <th>...</th>\n",
       "      <td>...</td>\n",
       "      <td>...</td>\n",
       "      <td>...</td>\n",
       "      <td>...</td>\n",
       "      <td>...</td>\n",
       "    </tr>\n",
       "    <tr>\n",
       "      <th>381074</th>\n",
       "      <td>381075.0</td>\n",
       "      <td>21113.0</td>\n",
       "      <td>152.0</td>\n",
       "      <td>248.0</td>\n",
       "      <td>0.0</td>\n",
       "    </tr>\n",
       "    <tr>\n",
       "      <th>381086</th>\n",
       "      <td>381087.0</td>\n",
       "      <td>2630.0</td>\n",
       "      <td>152.0</td>\n",
       "      <td>208.0</td>\n",
       "      <td>0.0</td>\n",
       "    </tr>\n",
       "    <tr>\n",
       "      <th>381092</th>\n",
       "      <td>381093.0</td>\n",
       "      <td>2630.0</td>\n",
       "      <td>124.0</td>\n",
       "      <td>130.0</td>\n",
       "      <td>0.0</td>\n",
       "    </tr>\n",
       "    <tr>\n",
       "      <th>381094</th>\n",
       "      <td>381095.0</td>\n",
       "      <td>2630.0</td>\n",
       "      <td>26.0</td>\n",
       "      <td>84.0</td>\n",
       "      <td>0.0</td>\n",
       "    </tr>\n",
       "    <tr>\n",
       "      <th>381102</th>\n",
       "      <td>381103.0</td>\n",
       "      <td>2630.0</td>\n",
       "      <td>152.0</td>\n",
       "      <td>102.0</td>\n",
       "      <td>0.0</td>\n",
       "    </tr>\n",
       "  </tbody>\n",
       "</table>\n",
       "<p>95267 rows × 5 columns</p>\n",
       "</div>"
      ],
      "text/plain": [
       "        customer_id  annual premium (in Rs)  sales channel code  vintage  \\\n",
       "5               6.0                  2630.0               160.0    176.0   \n",
       "6               7.0                 23367.0               152.0    249.0   \n",
       "15             16.0                  2630.0               156.0    147.0   \n",
       "27             28.0                 19135.0               152.0     57.0   \n",
       "30             31.0                  2630.0               160.0    136.0   \n",
       "...             ...                     ...                 ...      ...   \n",
       "381074     381075.0                 21113.0               152.0    248.0   \n",
       "381086     381087.0                  2630.0               152.0    208.0   \n",
       "381092     381093.0                  2630.0               124.0    130.0   \n",
       "381094     381095.0                  2630.0                26.0     84.0   \n",
       "381102     381103.0                  2630.0               152.0    102.0   \n",
       "\n",
       "        response  \n",
       "5            0.0  \n",
       "6            0.0  \n",
       "15           1.0  \n",
       "27           0.0  \n",
       "30           0.0  \n",
       "...          ...  \n",
       "381074       0.0  \n",
       "381086       0.0  \n",
       "381092       0.0  \n",
       "381094       0.0  \n",
       "381102       0.0  \n",
       "\n",
       "[95267 rows x 5 columns]"
      ]
     },
     "execution_count": 195,
     "metadata": {},
     "output_type": "execute_result"
    }
   ],
   "source": [
    "customerPD[customerPD['annual premium (in Rs)'] > upper_limit]\n",
    "customerPD[customerPD['annual premium (in Rs)'] < lower_limit]"
   ]
  },
  {
   "cell_type": "code",
   "execution_count": 196,
   "id": "f41ff317",
   "metadata": {},
   "outputs": [
    {
     "data": {
      "text/plain": [
       "(285829, 5)"
      ]
     },
     "execution_count": 196,
     "metadata": {},
     "output_type": "execute_result"
    }
   ],
   "source": [
    "new_df = customerPD[customerPD['annual premium (in Rs)'] < upper_limit]\n",
    "new_df.shape"
   ]
  },
  {
   "cell_type": "code",
   "execution_count": 199,
   "id": "2c81ea08",
   "metadata": {},
   "outputs": [
    {
     "name": "stderr",
     "output_type": "stream",
     "text": [
      "D:\\Skill Lync DS HARESH\\lib\\site-packages\\seaborn\\distributions.py:2619: FutureWarning: `distplot` is a deprecated function and will be removed in a future version. Please adapt your code to use either `displot` (a figure-level function with similar flexibility) or `histplot` (an axes-level function for histograms).\n",
      "  warnings.warn(msg, FutureWarning)\n",
      "D:\\Skill Lync DS HARESH\\lib\\site-packages\\seaborn\\_decorators.py:36: FutureWarning: Pass the following variable as a keyword arg: x. From version 0.12, the only valid positional argument will be `data`, and passing other arguments without an explicit keyword will result in an error or misinterpretation.\n",
      "  warnings.warn(\n",
      "D:\\Skill Lync DS HARESH\\lib\\site-packages\\seaborn\\distributions.py:2619: FutureWarning: `distplot` is a deprecated function and will be removed in a future version. Please adapt your code to use either `displot` (a figure-level function with similar flexibility) or `histplot` (an axes-level function for histograms).\n",
      "  warnings.warn(msg, FutureWarning)\n",
      "D:\\Skill Lync DS HARESH\\lib\\site-packages\\seaborn\\_decorators.py:36: FutureWarning: Pass the following variable as a keyword arg: x. From version 0.12, the only valid positional argument will be `data`, and passing other arguments without an explicit keyword will result in an error or misinterpretation.\n",
      "  warnings.warn(\n"
     ]
    },
    {
     "data": {
      "image/png": "[encoded data removed]",
      "text/plain": [
       "<Figure size 1152x576 with 4 Axes>"
      ]
     },
     "metadata": {
      "needs_background": "light"
     },
     "output_type": "display_data"
    }
   ],
   "source": [
    "plt.figure(figsize=(16,8))\n",
    "plt.subplot(2,2,1)\n",
    "sns.distplot(customerPD['annual premium (in Rs)'])\n",
    "plt.subplot(2,2,2)\n",
    "sns.boxplot(customerPD['annual premium (in Rs)'])\n",
    "plt.subplot(2,2,3)\n",
    "sns.distplot(new_df['annual premium (in Rs)'])\n",
    "plt.subplot(2,2,4)\n",
    "sns.boxplot(new_df['annual premium (in Rs)'])\n",
    "plt.show()"
   ]
  },
  {
   "cell_type": "code",
   "execution_count": 200,
   "id": "466d5975",
   "metadata": {},
   "outputs": [
    {
     "name": "stderr",
     "output_type": "stream",
     "text": [
      "D:\\Skill Lync DS HARESH\\lib\\site-packages\\seaborn\\_decorators.py:36: FutureWarning: Pass the following variable as a keyword arg: x. From version 0.12, the only valid positional argument will be `data`, and passing other arguments without an explicit keyword will result in an error or misinterpretation.\n",
      "  warnings.warn(\n"
     ]
    },
    {
     "data": {
      "text/plain": [
       "<AxesSubplot:xlabel='vintage'>"
      ]
     },
     "execution_count": 200,
     "metadata": {},
     "output_type": "execute_result"
    },
    {
     "data": {
      "image/png": "[encoded data removed]",
      "text/plain": [
       "<Figure size 432x288 with 1 Axes>"
      ]
     },
     "metadata": {
      "needs_background": "light"
     },
     "output_type": "display_data"
    }
   ],
   "source": [
    "sns.boxplot(customerPD['vintage'])"
   ]
  },
  {
   "cell_type": "code",
   "execution_count": 201,
   "id": "6b0da277",
   "metadata": {},
   "outputs": [
    {
     "name": "stderr",
     "output_type": "stream",
     "text": [
      "D:\\Skill Lync DS HARESH\\lib\\site-packages\\seaborn\\_decorators.py:36: FutureWarning: Pass the following variable as a keyword arg: x. From version 0.12, the only valid positional argument will be `data`, and passing other arguments without an explicit keyword will result in an error or misinterpretation.\n",
      "  warnings.warn(\n"
     ]
    },
    {
     "data": {
      "text/plain": [
       "<AxesSubplot:xlabel='sales channel code'>"
      ]
     },
     "execution_count": 201,
     "metadata": {},
     "output_type": "execute_result"
    },
    {
     "data": {
      "image/png": "[encoded data removed]",
      "text/plain": [
       "<Figure size 432x288 with 1 Axes>"
      ]
     },
     "metadata": {
      "needs_background": "light"
     },
     "output_type": "display_data"
    }
   ],
   "source": [
    "sns.boxplot(customerPD['sales channel code'])"
   ]
  },
  {
   "cell_type": "code",
   "execution_count": 202,
   "id": "1432a0ab",
   "metadata": {},
   "outputs": [
    {
     "name": "stderr",
     "output_type": "stream",
     "text": [
      "D:\\Skill Lync DS HARESH\\lib\\site-packages\\seaborn\\_decorators.py:36: FutureWarning: Pass the following variable as a keyword arg: x. From version 0.12, the only valid positional argument will be `data`, and passing other arguments without an explicit keyword will result in an error or misinterpretation.\n",
      "  warnings.warn(\n"
     ]
    },
    {
     "data": {
      "text/plain": [
       "<AxesSubplot:xlabel='response'>"
      ]
     },
     "execution_count": 202,
     "metadata": {},
     "output_type": "execute_result"
    },
    {
     "data": {
      "image/png": "[encoded data removed]",
      "text/plain": [
       "<Figure size 432x288 with 1 Axes>"
      ]
     },
     "metadata": {
      "needs_background": "light"
     },
     "output_type": "display_data"
    }
   ],
   "source": [
    "sns.boxplot(customerPD['response'])"
   ]
  },
  {
   "cell_type": "markdown",
   "id": "7a6cdc53",
   "metadata": {},
   "source": [
    "## Outliers customerD"
   ]
  },
  {
   "cell_type": "code",
   "execution_count": 203,
   "id": "8bc579e0",
   "metadata": {},
   "outputs": [
    {
     "name": "stderr",
     "output_type": "stream",
     "text": [
      "D:\\Skill Lync DS HARESH\\lib\\site-packages\\seaborn\\_decorators.py:36: FutureWarning: Pass the following variable as a keyword arg: x. From version 0.12, the only valid positional argument will be `data`, and passing other arguments without an explicit keyword will result in an error or misinterpretation.\n",
      "  warnings.warn(\n"
     ]
    },
    {
     "data": {
      "text/plain": [
       "<AxesSubplot:xlabel='age'>"
      ]
     },
     "execution_count": 203,
     "metadata": {},
     "output_type": "execute_result"
    },
    {
     "data": {
      "image/png": "[encoded data removed]",
      "text/plain": [
       "<Figure size 432x288 with 1 Axes>"
      ]
     },
     "metadata": {
      "needs_background": "light"
     },
     "output_type": "display_data"
    }
   ],
   "source": [
    "sns.boxplot(customerD['age'])"
   ]
  },
  {
   "cell_type": "code",
   "execution_count": 204,
   "id": "df364e07",
   "metadata": {},
   "outputs": [
    {
     "name": "stderr",
     "output_type": "stream",
     "text": [
      "D:\\Skill Lync DS HARESH\\lib\\site-packages\\seaborn\\_decorators.py:36: FutureWarning: Pass the following variable as a keyword arg: x. From version 0.12, the only valid positional argument will be `data`, and passing other arguments without an explicit keyword will result in an error or misinterpretation.\n",
      "  warnings.warn(\n"
     ]
    },
    {
     "data": {
      "text/plain": [
       "<AxesSubplot:xlabel='vehicle_damage'>"
      ]
     },
     "execution_count": 204,
     "metadata": {},
     "output_type": "execute_result"
    },
    {
     "data": {
      "image/png": "[encoded data removed]",
      "text/plain": [
       "<Figure size 432x288 with 1 Axes>"
      ]
     },
     "metadata": {
      "needs_background": "light"
     },
     "output_type": "display_data"
    }
   ],
   "source": [
    "sns.boxplot(customerD['vehicle_damage'])"
   ]
  },
  {
   "cell_type": "code",
   "execution_count": 205,
   "id": "fb7600eb",
   "metadata": {},
   "outputs": [
    {
     "name": "stderr",
     "output_type": "stream",
     "text": [
      "D:\\Skill Lync DS HARESH\\lib\\site-packages\\seaborn\\_decorators.py:36: FutureWarning: Pass the following variable as a keyword arg: x. From version 0.12, the only valid positional argument will be `data`, and passing other arguments without an explicit keyword will result in an error or misinterpretation.\n",
      "  warnings.warn(\n"
     ]
    },
    {
     "data": {
      "text/plain": [
       "<AxesSubplot:xlabel='previously_insured'>"
      ]
     },
     "execution_count": 205,
     "metadata": {},
     "output_type": "execute_result"
    },
    {
     "data": {
      "image/png": "[encoded data removed]",
      "text/plain": [
       "<Figure size 432x288 with 1 Axes>"
      ]
     },
     "metadata": {
      "needs_background": "light"
     },
     "output_type": "display_data"
    }
   ],
   "source": [
    "sns.boxplot(customerD['previously_insured'])"
   ]
  },
  {
   "cell_type": "code",
   "execution_count": 206,
   "id": "b4f18056",
   "metadata": {},
   "outputs": [
    {
     "name": "stderr",
     "output_type": "stream",
     "text": [
      "D:\\Skill Lync DS HARESH\\lib\\site-packages\\seaborn\\_decorators.py:36: FutureWarning: Pass the following variable as a keyword arg: x. From version 0.12, the only valid positional argument will be `data`, and passing other arguments without an explicit keyword will result in an error or misinterpretation.\n",
      "  warnings.warn(\n"
     ]
    },
    {
     "data": {
      "text/plain": [
       "<AxesSubplot:xlabel='region code'>"
      ]
     },
     "execution_count": 206,
     "metadata": {},
     "output_type": "execute_result"
    },
    {
     "data": {
      "image/png": "[encoded data removed]",
      "text/plain": [
       "<Figure size 432x288 with 1 Axes>"
      ]
     },
     "metadata": {
      "needs_background": "light"
     },
     "output_type": "display_data"
    }
   ],
   "source": [
    "sns.boxplot(customerD['region code'])"
   ]
  },
  {
   "cell_type": "code",
   "execution_count": 207,
   "id": "3aa7d739",
   "metadata": {},
   "outputs": [
    {
     "name": "stderr",
     "output_type": "stream",
     "text": [
      "D:\\Skill Lync DS HARESH\\lib\\site-packages\\seaborn\\_decorators.py:36: FutureWarning: Pass the following variable as a keyword arg: x. From version 0.12, the only valid positional argument will be `data`, and passing other arguments without an explicit keyword will result in an error or misinterpretation.\n",
      "  warnings.warn(\n"
     ]
    },
    {
     "data": {
      "text/plain": [
       "<AxesSubplot:xlabel='vehicle_age'>"
      ]
     },
     "execution_count": 207,
     "metadata": {},
     "output_type": "execute_result"
    },
    {
     "data": {
      "image/png": "[encoded data removed]",
      "text/plain": [
       "<Figure size 432x288 with 1 Axes>"
      ]
     },
     "metadata": {
      "needs_background": "light"
     },
     "output_type": "display_data"
    }
   ],
   "source": [
    "sns.boxplot(customerD['vehicle_age'])"
   ]
  },
  {
   "cell_type": "markdown",
   "id": "a8996069",
   "metadata": {},
   "source": [
    "# 3. Create a Master table for future use. Join the customer table and customer_policy table to get a master table using customer_id in both tables"
   ]
  },
  {
   "cell_type": "code",
   "execution_count": 208,
   "id": "487d5516",
   "metadata": {},
   "outputs": [
    {
     "data": {
      "text/html": [
       "<div>\n",
       "<style scoped>\n",
       "    .dataframe tbody tr th:only-of-type {\n",
       "        vertical-align: middle;\n",
       "    }\n",
       "\n",
       "    .dataframe tbody tr th {\n",
       "        vertical-align: top;\n",
       "    }\n",
       "\n",
       "    .dataframe thead th {\n",
       "        text-align: right;\n",
       "    }\n",
       "</style>\n",
       "<table border=\"1\" class=\"dataframe\">\n",
       "  <thead>\n",
       "    <tr style=\"text-align: right;\">\n",
       "      <th></th>\n",
       "      <th>customer_id</th>\n",
       "      <th>Gender</th>\n",
       "      <th>age</th>\n",
       "      <th>driving_licence_present</th>\n",
       "      <th>region code</th>\n",
       "      <th>previously_insured</th>\n",
       "      <th>vehicle_age</th>\n",
       "      <th>vehicle_damage</th>\n",
       "    </tr>\n",
       "  </thead>\n",
       "  <tbody>\n",
       "    <tr>\n",
       "      <th>0</th>\n",
       "      <td>1.0</td>\n",
       "      <td>0</td>\n",
       "      <td>44.0</td>\n",
       "      <td>1.0</td>\n",
       "      <td>28.0</td>\n",
       "      <td>1</td>\n",
       "      <td>2</td>\n",
       "      <td>1</td>\n",
       "    </tr>\n",
       "    <tr>\n",
       "      <th>1</th>\n",
       "      <td>2.0</td>\n",
       "      <td>0</td>\n",
       "      <td>76.0</td>\n",
       "      <td>1.0</td>\n",
       "      <td>3.0</td>\n",
       "      <td>1</td>\n",
       "      <td>1</td>\n",
       "      <td>0</td>\n",
       "    </tr>\n",
       "    <tr>\n",
       "      <th>2</th>\n",
       "      <td>3.0</td>\n",
       "      <td>0</td>\n",
       "      <td>47.0</td>\n",
       "      <td>1.0</td>\n",
       "      <td>28.0</td>\n",
       "      <td>1</td>\n",
       "      <td>2</td>\n",
       "      <td>1</td>\n",
       "    </tr>\n",
       "    <tr>\n",
       "      <th>3</th>\n",
       "      <td>4.0</td>\n",
       "      <td>0</td>\n",
       "      <td>21.0</td>\n",
       "      <td>1.0</td>\n",
       "      <td>11.0</td>\n",
       "      <td>0</td>\n",
       "      <td>0</td>\n",
       "      <td>0</td>\n",
       "    </tr>\n",
       "    <tr>\n",
       "      <th>4</th>\n",
       "      <td>5.0</td>\n",
       "      <td>1</td>\n",
       "      <td>29.0</td>\n",
       "      <td>1.0</td>\n",
       "      <td>41.0</td>\n",
       "      <td>0</td>\n",
       "      <td>0</td>\n",
       "      <td>0</td>\n",
       "    </tr>\n",
       "    <tr>\n",
       "      <th>...</th>\n",
       "      <td>...</td>\n",
       "      <td>...</td>\n",
       "      <td>...</td>\n",
       "      <td>...</td>\n",
       "      <td>...</td>\n",
       "      <td>...</td>\n",
       "      <td>...</td>\n",
       "      <td>...</td>\n",
       "    </tr>\n",
       "    <tr>\n",
       "      <th>183034</th>\n",
       "      <td>183035.0</td>\n",
       "      <td>1</td>\n",
       "      <td>23.0</td>\n",
       "      <td>1.0</td>\n",
       "      <td>7.0</td>\n",
       "      <td>0</td>\n",
       "      <td>0</td>\n",
       "      <td>0</td>\n",
       "    </tr>\n",
       "    <tr>\n",
       "      <th>183035</th>\n",
       "      <td>183036.0</td>\n",
       "      <td>1</td>\n",
       "      <td>25.0</td>\n",
       "      <td>1.0</td>\n",
       "      <td>34.0</td>\n",
       "      <td>1</td>\n",
       "      <td>0</td>\n",
       "      <td>0</td>\n",
       "    </tr>\n",
       "    <tr>\n",
       "      <th>183036</th>\n",
       "      <td>183037.0</td>\n",
       "      <td>0</td>\n",
       "      <td>21.0</td>\n",
       "      <td>1.0</td>\n",
       "      <td>46.0</td>\n",
       "      <td>0</td>\n",
       "      <td>0</td>\n",
       "      <td>0</td>\n",
       "    </tr>\n",
       "    <tr>\n",
       "      <th>183037</th>\n",
       "      <td>183038.0</td>\n",
       "      <td>0</td>\n",
       "      <td>32.0</td>\n",
       "      <td>1.0</td>\n",
       "      <td>18.0</td>\n",
       "      <td>0</td>\n",
       "      <td>0</td>\n",
       "      <td>0</td>\n",
       "    </tr>\n",
       "    <tr>\n",
       "      <th>183038</th>\n",
       "      <td>183039.0</td>\n",
       "      <td>1</td>\n",
       "      <td>20.0</td>\n",
       "      <td>1.0</td>\n",
       "      <td>28.0</td>\n",
       "      <td>1</td>\n",
       "      <td>1</td>\n",
       "      <td>1</td>\n",
       "    </tr>\n",
       "  </tbody>\n",
       "</table>\n",
       "<p>183039 rows × 8 columns</p>\n",
       "</div>"
      ],
      "text/plain": [
       "        customer_id  Gender   age  driving_licence_present  region code  \\\n",
       "0               1.0       0  44.0                      1.0         28.0   \n",
       "1               2.0       0  76.0                      1.0          3.0   \n",
       "2               3.0       0  47.0                      1.0         28.0   \n",
       "3               4.0       0  21.0                      1.0         11.0   \n",
       "4               5.0       1  29.0                      1.0         41.0   \n",
       "...             ...     ...   ...                      ...          ...   \n",
       "183034     183035.0       1  23.0                      1.0          7.0   \n",
       "183035     183036.0       1  25.0                      1.0         34.0   \n",
       "183036     183037.0       0  21.0                      1.0         46.0   \n",
       "183037     183038.0       0  32.0                      1.0         18.0   \n",
       "183038     183039.0       1  20.0                      1.0         28.0   \n",
       "\n",
       "        previously_insured  vehicle_age  vehicle_damage  \n",
       "0                        1            2               1  \n",
       "1                        1            1               0  \n",
       "2                        1            2               1  \n",
       "3                        0            0               0  \n",
       "4                        0            0               0  \n",
       "...                    ...          ...             ...  \n",
       "183034                   0            0               0  \n",
       "183035                   1            0               0  \n",
       "183036                   0            0               0  \n",
       "183037                   0            0               0  \n",
       "183038                   1            1               1  \n",
       "\n",
       "[183039 rows x 8 columns]"
      ]
     },
     "execution_count": 208,
     "metadata": {},
     "output_type": "execute_result"
    }
   ],
   "source": [
    "customerD"
   ]
  },
  {
   "cell_type": "code",
   "execution_count": 209,
   "id": "be8c6a30",
   "metadata": {},
   "outputs": [
    {
     "data": {
      "text/html": [
       "<div>\n",
       "<style scoped>\n",
       "    .dataframe tbody tr th:only-of-type {\n",
       "        vertical-align: middle;\n",
       "    }\n",
       "\n",
       "    .dataframe tbody tr th {\n",
       "        vertical-align: top;\n",
       "    }\n",
       "\n",
       "    .dataframe thead th {\n",
       "        text-align: right;\n",
       "    }\n",
       "</style>\n",
       "<table border=\"1\" class=\"dataframe\">\n",
       "  <thead>\n",
       "    <tr style=\"text-align: right;\">\n",
       "      <th></th>\n",
       "      <th>customer_id</th>\n",
       "      <th>annual premium (in Rs)</th>\n",
       "      <th>sales channel code</th>\n",
       "      <th>vintage</th>\n",
       "      <th>response</th>\n",
       "    </tr>\n",
       "  </thead>\n",
       "  <tbody>\n",
       "    <tr>\n",
       "      <th>0</th>\n",
       "      <td>1.0</td>\n",
       "      <td>40454.0</td>\n",
       "      <td>26.0</td>\n",
       "      <td>217.0</td>\n",
       "      <td>1.0</td>\n",
       "    </tr>\n",
       "    <tr>\n",
       "      <th>1</th>\n",
       "      <td>2.0</td>\n",
       "      <td>33536.0</td>\n",
       "      <td>26.0</td>\n",
       "      <td>183.0</td>\n",
       "      <td>0.0</td>\n",
       "    </tr>\n",
       "    <tr>\n",
       "      <th>2</th>\n",
       "      <td>3.0</td>\n",
       "      <td>38294.0</td>\n",
       "      <td>26.0</td>\n",
       "      <td>27.0</td>\n",
       "      <td>1.0</td>\n",
       "    </tr>\n",
       "    <tr>\n",
       "      <th>3</th>\n",
       "      <td>4.0</td>\n",
       "      <td>28619.0</td>\n",
       "      <td>152.0</td>\n",
       "      <td>203.0</td>\n",
       "      <td>0.0</td>\n",
       "    </tr>\n",
       "    <tr>\n",
       "      <th>4</th>\n",
       "      <td>5.0</td>\n",
       "      <td>27496.0</td>\n",
       "      <td>152.0</td>\n",
       "      <td>39.0</td>\n",
       "      <td>0.0</td>\n",
       "    </tr>\n",
       "    <tr>\n",
       "      <th>...</th>\n",
       "      <td>...</td>\n",
       "      <td>...</td>\n",
       "      <td>...</td>\n",
       "      <td>...</td>\n",
       "      <td>...</td>\n",
       "    </tr>\n",
       "    <tr>\n",
       "      <th>381104</th>\n",
       "      <td>381105.0</td>\n",
       "      <td>30170.0</td>\n",
       "      <td>26.0</td>\n",
       "      <td>88.0</td>\n",
       "      <td>0.0</td>\n",
       "    </tr>\n",
       "    <tr>\n",
       "      <th>381105</th>\n",
       "      <td>381106.0</td>\n",
       "      <td>40016.0</td>\n",
       "      <td>152.0</td>\n",
       "      <td>131.0</td>\n",
       "      <td>0.0</td>\n",
       "    </tr>\n",
       "    <tr>\n",
       "      <th>381106</th>\n",
       "      <td>381107.0</td>\n",
       "      <td>35118.0</td>\n",
       "      <td>160.0</td>\n",
       "      <td>161.0</td>\n",
       "      <td>0.0</td>\n",
       "    </tr>\n",
       "    <tr>\n",
       "      <th>381107</th>\n",
       "      <td>381108.0</td>\n",
       "      <td>44617.0</td>\n",
       "      <td>124.0</td>\n",
       "      <td>74.0</td>\n",
       "      <td>0.0</td>\n",
       "    </tr>\n",
       "    <tr>\n",
       "      <th>381108</th>\n",
       "      <td>381109.0</td>\n",
       "      <td>41777.0</td>\n",
       "      <td>26.0</td>\n",
       "      <td>237.0</td>\n",
       "      <td>0.0</td>\n",
       "    </tr>\n",
       "  </tbody>\n",
       "</table>\n",
       "<p>381109 rows × 5 columns</p>\n",
       "</div>"
      ],
      "text/plain": [
       "        customer_id  annual premium (in Rs)  sales channel code  vintage  \\\n",
       "0               1.0                 40454.0                26.0    217.0   \n",
       "1               2.0                 33536.0                26.0    183.0   \n",
       "2               3.0                 38294.0                26.0     27.0   \n",
       "3               4.0                 28619.0               152.0    203.0   \n",
       "4               5.0                 27496.0               152.0     39.0   \n",
       "...             ...                     ...                 ...      ...   \n",
       "381104     381105.0                 30170.0                26.0     88.0   \n",
       "381105     381106.0                 40016.0               152.0    131.0   \n",
       "381106     381107.0                 35118.0               160.0    161.0   \n",
       "381107     381108.0                 44617.0               124.0     74.0   \n",
       "381108     381109.0                 41777.0                26.0    237.0   \n",
       "\n",
       "        response  \n",
       "0            1.0  \n",
       "1            0.0  \n",
       "2            1.0  \n",
       "3            0.0  \n",
       "4            0.0  \n",
       "...          ...  \n",
       "381104       0.0  \n",
       "381105       0.0  \n",
       "381106       0.0  \n",
       "381107       0.0  \n",
       "381108       0.0  \n",
       "\n",
       "[381109 rows x 5 columns]"
      ]
     },
     "execution_count": 209,
     "metadata": {},
     "output_type": "execute_result"
    }
   ],
   "source": [
    "customerPD"
   ]
  },
  {
   "cell_type": "code",
   "execution_count": 236,
   "id": "f894dfb4",
   "metadata": {},
   "outputs": [],
   "source": [
    "master_data=pd.merge(customerD,customerPD)"
   ]
  },
  {
   "cell_type": "code",
   "execution_count": 237,
   "id": "8448cbb3",
   "metadata": {},
   "outputs": [
    {
     "data": {
      "text/html": [
       "<div>\n",
       "<style scoped>\n",
       "    .dataframe tbody tr th:only-of-type {\n",
       "        vertical-align: middle;\n",
       "    }\n",
       "\n",
       "    .dataframe tbody tr th {\n",
       "        vertical-align: top;\n",
       "    }\n",
       "\n",
       "    .dataframe thead th {\n",
       "        text-align: right;\n",
       "    }\n",
       "</style>\n",
       "<table border=\"1\" class=\"dataframe\">\n",
       "  <thead>\n",
       "    <tr style=\"text-align: right;\">\n",
       "      <th></th>\n",
       "      <th>customer_id</th>\n",
       "      <th>Gender</th>\n",
       "      <th>age</th>\n",
       "      <th>driving_licence_present</th>\n",
       "      <th>region code</th>\n",
       "      <th>previously_insured</th>\n",
       "      <th>vehicle_age</th>\n",
       "      <th>vehicle_damage</th>\n",
       "      <th>annual premium (in Rs)</th>\n",
       "      <th>sales channel code</th>\n",
       "      <th>vintage</th>\n",
       "      <th>response</th>\n",
       "    </tr>\n",
       "  </thead>\n",
       "  <tbody>\n",
       "    <tr>\n",
       "      <th>0</th>\n",
       "      <td>1.0</td>\n",
       "      <td>0</td>\n",
       "      <td>44.0</td>\n",
       "      <td>1.0</td>\n",
       "      <td>28.0</td>\n",
       "      <td>1</td>\n",
       "      <td>2</td>\n",
       "      <td>1</td>\n",
       "      <td>40454.0</td>\n",
       "      <td>26.0</td>\n",
       "      <td>217.0</td>\n",
       "      <td>1.0</td>\n",
       "    </tr>\n",
       "    <tr>\n",
       "      <th>1</th>\n",
       "      <td>1.0</td>\n",
       "      <td>0</td>\n",
       "      <td>44.0</td>\n",
       "      <td>1.0</td>\n",
       "      <td>28.0</td>\n",
       "      <td>1</td>\n",
       "      <td>2</td>\n",
       "      <td>1</td>\n",
       "      <td>37107.0</td>\n",
       "      <td>4.0</td>\n",
       "      <td>239.0</td>\n",
       "      <td>0.0</td>\n",
       "    </tr>\n",
       "    <tr>\n",
       "      <th>2</th>\n",
       "      <td>1.0</td>\n",
       "      <td>0</td>\n",
       "      <td>44.0</td>\n",
       "      <td>1.0</td>\n",
       "      <td>28.0</td>\n",
       "      <td>1</td>\n",
       "      <td>2</td>\n",
       "      <td>1</td>\n",
       "      <td>50889.0</td>\n",
       "      <td>26.0</td>\n",
       "      <td>247.0</td>\n",
       "      <td>0.0</td>\n",
       "    </tr>\n",
       "    <tr>\n",
       "      <th>3</th>\n",
       "      <td>1.0</td>\n",
       "      <td>0</td>\n",
       "      <td>44.0</td>\n",
       "      <td>1.0</td>\n",
       "      <td>28.0</td>\n",
       "      <td>1</td>\n",
       "      <td>2</td>\n",
       "      <td>1</td>\n",
       "      <td>31868.0</td>\n",
       "      <td>125.0</td>\n",
       "      <td>140.0</td>\n",
       "      <td>0.0</td>\n",
       "    </tr>\n",
       "    <tr>\n",
       "      <th>4</th>\n",
       "      <td>1.0</td>\n",
       "      <td>0</td>\n",
       "      <td>44.0</td>\n",
       "      <td>1.0</td>\n",
       "      <td>28.0</td>\n",
       "      <td>1</td>\n",
       "      <td>2</td>\n",
       "      <td>1</td>\n",
       "      <td>22679.0</td>\n",
       "      <td>29.0</td>\n",
       "      <td>174.0</td>\n",
       "      <td>0.0</td>\n",
       "    </tr>\n",
       "    <tr>\n",
       "      <th>...</th>\n",
       "      <td>...</td>\n",
       "      <td>...</td>\n",
       "      <td>...</td>\n",
       "      <td>...</td>\n",
       "      <td>...</td>\n",
       "      <td>...</td>\n",
       "      <td>...</td>\n",
       "      <td>...</td>\n",
       "      <td>...</td>\n",
       "      <td>...</td>\n",
       "      <td>...</td>\n",
       "      <td>...</td>\n",
       "    </tr>\n",
       "    <tr>\n",
       "      <th>183251</th>\n",
       "      <td>183035.0</td>\n",
       "      <td>1</td>\n",
       "      <td>23.0</td>\n",
       "      <td>1.0</td>\n",
       "      <td>7.0</td>\n",
       "      <td>0</td>\n",
       "      <td>0</td>\n",
       "      <td>0</td>\n",
       "      <td>2630.0</td>\n",
       "      <td>160.0</td>\n",
       "      <td>100.0</td>\n",
       "      <td>0.0</td>\n",
       "    </tr>\n",
       "    <tr>\n",
       "      <th>183252</th>\n",
       "      <td>183036.0</td>\n",
       "      <td>1</td>\n",
       "      <td>25.0</td>\n",
       "      <td>1.0</td>\n",
       "      <td>34.0</td>\n",
       "      <td>1</td>\n",
       "      <td>0</td>\n",
       "      <td>0</td>\n",
       "      <td>34908.0</td>\n",
       "      <td>152.0</td>\n",
       "      <td>294.0</td>\n",
       "      <td>0.0</td>\n",
       "    </tr>\n",
       "    <tr>\n",
       "      <th>183253</th>\n",
       "      <td>183037.0</td>\n",
       "      <td>0</td>\n",
       "      <td>21.0</td>\n",
       "      <td>1.0</td>\n",
       "      <td>46.0</td>\n",
       "      <td>0</td>\n",
       "      <td>0</td>\n",
       "      <td>0</td>\n",
       "      <td>37320.0</td>\n",
       "      <td>160.0</td>\n",
       "      <td>63.0</td>\n",
       "      <td>0.0</td>\n",
       "    </tr>\n",
       "    <tr>\n",
       "      <th>183254</th>\n",
       "      <td>183038.0</td>\n",
       "      <td>0</td>\n",
       "      <td>32.0</td>\n",
       "      <td>1.0</td>\n",
       "      <td>18.0</td>\n",
       "      <td>0</td>\n",
       "      <td>0</td>\n",
       "      <td>0</td>\n",
       "      <td>27498.0</td>\n",
       "      <td>152.0</td>\n",
       "      <td>118.0</td>\n",
       "      <td>0.0</td>\n",
       "    </tr>\n",
       "    <tr>\n",
       "      <th>183255</th>\n",
       "      <td>183039.0</td>\n",
       "      <td>1</td>\n",
       "      <td>20.0</td>\n",
       "      <td>1.0</td>\n",
       "      <td>28.0</td>\n",
       "      <td>1</td>\n",
       "      <td>1</td>\n",
       "      <td>1</td>\n",
       "      <td>35900.0</td>\n",
       "      <td>160.0</td>\n",
       "      <td>81.0</td>\n",
       "      <td>1.0</td>\n",
       "    </tr>\n",
       "  </tbody>\n",
       "</table>\n",
       "<p>183256 rows × 12 columns</p>\n",
       "</div>"
      ],
      "text/plain": [
       "        customer_id  Gender   age  driving_licence_present  region code  \\\n",
       "0               1.0       0  44.0                      1.0         28.0   \n",
       "1               1.0       0  44.0                      1.0         28.0   \n",
       "2               1.0       0  44.0                      1.0         28.0   \n",
       "3               1.0       0  44.0                      1.0         28.0   \n",
       "4               1.0       0  44.0                      1.0         28.0   \n",
       "...             ...     ...   ...                      ...          ...   \n",
       "183251     183035.0       1  23.0                      1.0          7.0   \n",
       "183252     183036.0       1  25.0                      1.0         34.0   \n",
       "183253     183037.0       0  21.0                      1.0         46.0   \n",
       "183254     183038.0       0  32.0                      1.0         18.0   \n",
       "183255     183039.0       1  20.0                      1.0         28.0   \n",
       "\n",
       "        previously_insured  vehicle_age  vehicle_damage  \\\n",
       "0                        1            2               1   \n",
       "1                        1            2               1   \n",
       "2                        1            2               1   \n",
       "3                        1            2               1   \n",
       "4                        1            2               1   \n",
       "...                    ...          ...             ...   \n",
       "183251                   0            0               0   \n",
       "183252                   1            0               0   \n",
       "183253                   0            0               0   \n",
       "183254                   0            0               0   \n",
       "183255                   1            1               1   \n",
       "\n",
       "        annual premium (in Rs)  sales channel code  vintage  response  \n",
       "0                      40454.0                26.0    217.0       1.0  \n",
       "1                      37107.0                 4.0    239.0       0.0  \n",
       "2                      50889.0                26.0    247.0       0.0  \n",
       "3                      31868.0               125.0    140.0       0.0  \n",
       "4                      22679.0                29.0    174.0       0.0  \n",
       "...                        ...                 ...      ...       ...  \n",
       "183251                  2630.0               160.0    100.0       0.0  \n",
       "183252                 34908.0               152.0    294.0       0.0  \n",
       "183253                 37320.0               160.0     63.0       0.0  \n",
       "183254                 27498.0               152.0    118.0       0.0  \n",
       "183255                 35900.0               160.0     81.0       1.0  \n",
       "\n",
       "[183256 rows x 12 columns]"
      ]
     },
     "execution_count": 237,
     "metadata": {},
     "output_type": "execute_result"
    }
   ],
   "source": [
    "master_data"
   ]
  },
  {
   "cell_type": "code",
   "execution_count": null,
   "id": "e9b47e12",
   "metadata": {},
   "outputs": [],
   "source": [
    "master_data.set_index('customer_id')"
   ]
  },
  {
   "cell_type": "markdown",
   "id": "f66a035f",
   "metadata": {},
   "source": [
    "# 4. Company needs some important information from the master table to make decisions for future growth.They needs following information:\n",
    "\n",
    "### i. Gender wise average annual premium\n",
    "\n",
    "### ii. Age wise average annual premium\n",
    "\n",
    "### iii. Is your data balanced between the genders?\n",
    "\n",
    " ######      (Hint: Data is balanced if number of counts in each group is approximately same)\n",
    "\n",
    "### iv. Vehicle age wise average annual premium."
   ]
  },
  {
   "cell_type": "code",
   "execution_count": 216,
   "id": "0b053c63",
   "metadata": {},
   "outputs": [
    {
     "name": "stderr",
     "output_type": "stream",
     "text": [
      "D:\\Skill Lync DS HARESH\\lib\\site-packages\\seaborn\\distributions.py:2619: FutureWarning: `distplot` is a deprecated function and will be removed in a future version. Please adapt your code to use either `displot` (a figure-level function with similar flexibility) or `histplot` (an axes-level function for histograms).\n",
      "  warnings.warn(msg, FutureWarning)\n",
      "D:\\Skill Lync DS HARESH\\lib\\site-packages\\seaborn\\distributions.py:2619: FutureWarning: `distplot` is a deprecated function and will be removed in a future version. Please adapt your code to use either `displot` (a figure-level function with similar flexibility) or `histplot` (an axes-level function for histograms).\n",
      "  warnings.warn(msg, FutureWarning)\n"
     ]
    },
    {
     "data": {
      "image/png": "[encoded data removed]",
      "text/plain": [
       "<Figure size 1080x432 with 1 Axes>"
      ]
     },
     "metadata": {
      "needs_background": "light"
     },
     "output_type": "display_data"
    }
   ],
   "source": [
    "plt.figure(figsize = (15, 6))\n",
    "sns.distplot(master_data.loc[(master_data['Gender'] == 1), 'annual premium (in Rs)'], kde_kws = {\"color\": \"b\", \"lw\": 1, \"label\": \"Male\"})\n",
    "sns.distplot(master_data.loc[(master_data['Gender'] == 0), 'annual premium (in Rs)'], kde_kws = {\"color\": \"r\", \"lw\": 1, \"label\": \"Female\"})\n",
    "plt.title('Gender wise average annual premium', fontsize = 15)\n",
    "plt.show()"
   ]
  },
  {
   "cell_type": "code",
   "execution_count": 224,
   "id": "d349deae",
   "metadata": {},
   "outputs": [
    {
     "data": {
      "image/png": "[encoded data removed]",
      "text/plain": [
       "<Figure size 432x288 with 1 Axes>"
      ]
     },
     "metadata": {
      "needs_background": "light"
     },
     "output_type": "display_data"
    }
   ],
   "source": [
    "gender_wise=master_data.groupby('Gender')['annual premium (in Rs)'].mean()\n",
    "result4_1.plot()\n",
    "plt.title('Gender wise average annual premium')\n",
    "plt.ylabel('annual premium (in Rs)')\n",
    "plt.show()"
   ]
  },
  {
   "cell_type": "code",
   "execution_count": null,
   "id": "ad0ed233",
   "metadata": {},
   "outputs": [],
   "source": [
    "plt.figure(figsize = (15, 6))\n",
    "#sns.distplot(master_data.loc[(master_data['age'] == 1), 'annual premium (in Rs)'], kde_kws = {\"color\": \"b\", \"lw\": 1, \"label\": \"20\"})\n",
    "#sns.distplot(master_data.loc[(master_data['age'] == 0), 'annual premium (in Rs)'], kde_kws = {\"color\": \"r\", \"lw\": 1, \"label\": \"60\"})\n",
    "plt.bar(master_data['age'],master_data['annual premium (in Rs)'])\n",
    "plt.title('Age wise average annual premium', fontsize = 15)\n",
    "plt.show()"
   ]
  },
  {
   "cell_type": "code",
   "execution_count": 228,
   "id": "c41237a9",
   "metadata": {},
   "outputs": [
    {
     "name": "stderr",
     "output_type": "stream",
     "text": [
      "D:\\Skill Lync DS HARESH\\lib\\site-packages\\seaborn\\distributions.py:2619: FutureWarning: `distplot` is a deprecated function and will be removed in a future version. Please adapt your code to use either `displot` (a figure-level function with similar flexibility) or `histplot` (an axes-level function for histograms).\n",
      "  warnings.warn(msg, FutureWarning)\n",
      "D:\\Skill Lync DS HARESH\\lib\\site-packages\\seaborn\\distributions.py:2619: FutureWarning: `distplot` is a deprecated function and will be removed in a future version. Please adapt your code to use either `displot` (a figure-level function with similar flexibility) or `histplot` (an axes-level function for histograms).\n",
      "  warnings.warn(msg, FutureWarning)\n"
     ]
    },
    {
     "data": {
      "image/png": "[encoded data removed]",
      "text/plain": [
       "<Figure size 1080x432 with 1 Axes>"
      ]
     },
     "metadata": {
      "needs_background": "light"
     },
     "output_type": "display_data"
    }
   ],
   "source": [
    "plt.figure(figsize = (15, 6))\n",
    "sns.distplot(master_data.loc[(master_data['driving_licence_present'] == 0), 'age'], kde_kws = {\"color\": \"b\", \"lw\": 1, \"label\": \"Not Licensed for driving\"})\n",
    "sns.distplot(master_data.loc[(master_data['driving_licence_present'] == 1), 'age'], kde_kws = {\"color\": \"r\", \"lw\": 1, \"label\": \"Licensed for Driving\"})\n",
    "plt.title('Age distribution by Driving License', fontsize = 15)\n",
    "plt.show()"
   ]
  },
  {
   "cell_type": "code",
   "execution_count": 240,
   "id": "d27cbf17",
   "metadata": {},
   "outputs": [
    {
     "data": {
      "text/html": [
       "<div>\n",
       "<style scoped>\n",
       "    .dataframe tbody tr th:only-of-type {\n",
       "        vertical-align: middle;\n",
       "    }\n",
       "\n",
       "    .dataframe tbody tr th {\n",
       "        vertical-align: top;\n",
       "    }\n",
       "\n",
       "    .dataframe thead th {\n",
       "        text-align: right;\n",
       "    }\n",
       "</style>\n",
       "<table border=\"1\" class=\"dataframe\">\n",
       "  <thead>\n",
       "    <tr style=\"text-align: right;\">\n",
       "      <th></th>\n",
       "      <th>customer_id</th>\n",
       "      <th>Gender</th>\n",
       "      <th>age</th>\n",
       "      <th>driving_licence_present</th>\n",
       "      <th>region code</th>\n",
       "      <th>previously_insured</th>\n",
       "      <th>vehicle_age</th>\n",
       "      <th>vehicle_damage</th>\n",
       "      <th>annual premium (in Rs)</th>\n",
       "      <th>sales channel code</th>\n",
       "      <th>vintage</th>\n",
       "      <th>response</th>\n",
       "    </tr>\n",
       "  </thead>\n",
       "  <tbody>\n",
       "    <tr>\n",
       "      <th>0</th>\n",
       "      <td>1.0</td>\n",
       "      <td>0</td>\n",
       "      <td>44.0</td>\n",
       "      <td>1.0</td>\n",
       "      <td>28.0</td>\n",
       "      <td>1</td>\n",
       "      <td>2</td>\n",
       "      <td>1</td>\n",
       "      <td>40454.0</td>\n",
       "      <td>26.0</td>\n",
       "      <td>217.0</td>\n",
       "      <td>1.0</td>\n",
       "    </tr>\n",
       "    <tr>\n",
       "      <th>1</th>\n",
       "      <td>1.0</td>\n",
       "      <td>0</td>\n",
       "      <td>44.0</td>\n",
       "      <td>1.0</td>\n",
       "      <td>28.0</td>\n",
       "      <td>1</td>\n",
       "      <td>2</td>\n",
       "      <td>1</td>\n",
       "      <td>37107.0</td>\n",
       "      <td>4.0</td>\n",
       "      <td>239.0</td>\n",
       "      <td>0.0</td>\n",
       "    </tr>\n",
       "    <tr>\n",
       "      <th>2</th>\n",
       "      <td>1.0</td>\n",
       "      <td>0</td>\n",
       "      <td>44.0</td>\n",
       "      <td>1.0</td>\n",
       "      <td>28.0</td>\n",
       "      <td>1</td>\n",
       "      <td>2</td>\n",
       "      <td>1</td>\n",
       "      <td>50889.0</td>\n",
       "      <td>26.0</td>\n",
       "      <td>247.0</td>\n",
       "      <td>0.0</td>\n",
       "    </tr>\n",
       "    <tr>\n",
       "      <th>3</th>\n",
       "      <td>1.0</td>\n",
       "      <td>0</td>\n",
       "      <td>44.0</td>\n",
       "      <td>1.0</td>\n",
       "      <td>28.0</td>\n",
       "      <td>1</td>\n",
       "      <td>2</td>\n",
       "      <td>1</td>\n",
       "      <td>31868.0</td>\n",
       "      <td>125.0</td>\n",
       "      <td>140.0</td>\n",
       "      <td>0.0</td>\n",
       "    </tr>\n",
       "    <tr>\n",
       "      <th>4</th>\n",
       "      <td>1.0</td>\n",
       "      <td>0</td>\n",
       "      <td>44.0</td>\n",
       "      <td>1.0</td>\n",
       "      <td>28.0</td>\n",
       "      <td>1</td>\n",
       "      <td>2</td>\n",
       "      <td>1</td>\n",
       "      <td>22679.0</td>\n",
       "      <td>29.0</td>\n",
       "      <td>174.0</td>\n",
       "      <td>0.0</td>\n",
       "    </tr>\n",
       "    <tr>\n",
       "      <th>...</th>\n",
       "      <td>...</td>\n",
       "      <td>...</td>\n",
       "      <td>...</td>\n",
       "      <td>...</td>\n",
       "      <td>...</td>\n",
       "      <td>...</td>\n",
       "      <td>...</td>\n",
       "      <td>...</td>\n",
       "      <td>...</td>\n",
       "      <td>...</td>\n",
       "      <td>...</td>\n",
       "      <td>...</td>\n",
       "    </tr>\n",
       "    <tr>\n",
       "      <th>183251</th>\n",
       "      <td>183035.0</td>\n",
       "      <td>1</td>\n",
       "      <td>23.0</td>\n",
       "      <td>1.0</td>\n",
       "      <td>7.0</td>\n",
       "      <td>0</td>\n",
       "      <td>0</td>\n",
       "      <td>0</td>\n",
       "      <td>2630.0</td>\n",
       "      <td>160.0</td>\n",
       "      <td>100.0</td>\n",
       "      <td>0.0</td>\n",
       "    </tr>\n",
       "    <tr>\n",
       "      <th>183252</th>\n",
       "      <td>183036.0</td>\n",
       "      <td>1</td>\n",
       "      <td>25.0</td>\n",
       "      <td>1.0</td>\n",
       "      <td>34.0</td>\n",
       "      <td>1</td>\n",
       "      <td>0</td>\n",
       "      <td>0</td>\n",
       "      <td>34908.0</td>\n",
       "      <td>152.0</td>\n",
       "      <td>294.0</td>\n",
       "      <td>0.0</td>\n",
       "    </tr>\n",
       "    <tr>\n",
       "      <th>183253</th>\n",
       "      <td>183037.0</td>\n",
       "      <td>0</td>\n",
       "      <td>21.0</td>\n",
       "      <td>1.0</td>\n",
       "      <td>46.0</td>\n",
       "      <td>0</td>\n",
       "      <td>0</td>\n",
       "      <td>0</td>\n",
       "      <td>37320.0</td>\n",
       "      <td>160.0</td>\n",
       "      <td>63.0</td>\n",
       "      <td>0.0</td>\n",
       "    </tr>\n",
       "    <tr>\n",
       "      <th>183254</th>\n",
       "      <td>183038.0</td>\n",
       "      <td>0</td>\n",
       "      <td>32.0</td>\n",
       "      <td>1.0</td>\n",
       "      <td>18.0</td>\n",
       "      <td>0</td>\n",
       "      <td>0</td>\n",
       "      <td>0</td>\n",
       "      <td>27498.0</td>\n",
       "      <td>152.0</td>\n",
       "      <td>118.0</td>\n",
       "      <td>0.0</td>\n",
       "    </tr>\n",
       "    <tr>\n",
       "      <th>183255</th>\n",
       "      <td>183039.0</td>\n",
       "      <td>1</td>\n",
       "      <td>20.0</td>\n",
       "      <td>1.0</td>\n",
       "      <td>28.0</td>\n",
       "      <td>1</td>\n",
       "      <td>1</td>\n",
       "      <td>1</td>\n",
       "      <td>35900.0</td>\n",
       "      <td>160.0</td>\n",
       "      <td>81.0</td>\n",
       "      <td>1.0</td>\n",
       "    </tr>\n",
       "  </tbody>\n",
       "</table>\n",
       "<p>183256 rows × 12 columns</p>\n",
       "</div>"
      ],
      "text/plain": [
       "        customer_id  Gender   age  driving_licence_present  region code  \\\n",
       "0               1.0       0  44.0                      1.0         28.0   \n",
       "1               1.0       0  44.0                      1.0         28.0   \n",
       "2               1.0       0  44.0                      1.0         28.0   \n",
       "3               1.0       0  44.0                      1.0         28.0   \n",
       "4               1.0       0  44.0                      1.0         28.0   \n",
       "...             ...     ...   ...                      ...          ...   \n",
       "183251     183035.0       1  23.0                      1.0          7.0   \n",
       "183252     183036.0       1  25.0                      1.0         34.0   \n",
       "183253     183037.0       0  21.0                      1.0         46.0   \n",
       "183254     183038.0       0  32.0                      1.0         18.0   \n",
       "183255     183039.0       1  20.0                      1.0         28.0   \n",
       "\n",
       "        previously_insured  vehicle_age  vehicle_damage  \\\n",
       "0                        1            2               1   \n",
       "1                        1            2               1   \n",
       "2                        1            2               1   \n",
       "3                        1            2               1   \n",
       "4                        1            2               1   \n",
       "...                    ...          ...             ...   \n",
       "183251                   0            0               0   \n",
       "183252                   1            0               0   \n",
       "183253                   0            0               0   \n",
       "183254                   0            0               0   \n",
       "183255                   1            1               1   \n",
       "\n",
       "        annual premium (in Rs)  sales channel code  vintage  response  \n",
       "0                      40454.0                26.0    217.0       1.0  \n",
       "1                      37107.0                 4.0    239.0       0.0  \n",
       "2                      50889.0                26.0    247.0       0.0  \n",
       "3                      31868.0               125.0    140.0       0.0  \n",
       "4                      22679.0                29.0    174.0       0.0  \n",
       "...                        ...                 ...      ...       ...  \n",
       "183251                  2630.0               160.0    100.0       0.0  \n",
       "183252                 34908.0               152.0    294.0       0.0  \n",
       "183253                 37320.0               160.0     63.0       0.0  \n",
       "183254                 27498.0               152.0    118.0       0.0  \n",
       "183255                 35900.0               160.0     81.0       1.0  \n",
       "\n",
       "[183256 rows x 12 columns]"
      ]
     },
     "execution_count": 240,
     "metadata": {},
     "output_type": "execute_result"
    }
   ],
   "source": [
    "master_data\n"
   ]
  },
  {
   "cell_type": "code",
   "execution_count": 247,
   "id": "fd44bebc",
   "metadata": {},
   "outputs": [
    {
     "data": {
      "text/html": [
       "<div>\n",
       "<style scoped>\n",
       "    .dataframe tbody tr th:only-of-type {\n",
       "        vertical-align: middle;\n",
       "    }\n",
       "\n",
       "    .dataframe tbody tr th {\n",
       "        vertical-align: top;\n",
       "    }\n",
       "\n",
       "    .dataframe thead th {\n",
       "        text-align: right;\n",
       "    }\n",
       "</style>\n",
       "<table border=\"1\" class=\"dataframe\">\n",
       "  <thead>\n",
       "    <tr style=\"text-align: right;\">\n",
       "      <th></th>\n",
       "      <th>customer_id</th>\n",
       "      <th>Gender</th>\n",
       "      <th>age</th>\n",
       "      <th>driving_licence_present</th>\n",
       "      <th>region code</th>\n",
       "      <th>previously_insured</th>\n",
       "      <th>vehicle_age</th>\n",
       "      <th>vehicle_damage</th>\n",
       "      <th>annual premium (in Rs)</th>\n",
       "      <th>sales channel code</th>\n",
       "      <th>vintage</th>\n",
       "      <th>response</th>\n",
       "    </tr>\n",
       "  </thead>\n",
       "  <tbody>\n",
       "    <tr>\n",
       "      <th>0</th>\n",
       "      <td>1.0</td>\n",
       "      <td>0</td>\n",
       "      <td>44.0</td>\n",
       "      <td>1.0</td>\n",
       "      <td>28.0</td>\n",
       "      <td>1</td>\n",
       "      <td>2</td>\n",
       "      <td>1</td>\n",
       "      <td>40454.0</td>\n",
       "      <td>26.0</td>\n",
       "      <td>217.0</td>\n",
       "      <td>1.0</td>\n",
       "    </tr>\n",
       "    <tr>\n",
       "      <th>1</th>\n",
       "      <td>1.0</td>\n",
       "      <td>0</td>\n",
       "      <td>44.0</td>\n",
       "      <td>1.0</td>\n",
       "      <td>28.0</td>\n",
       "      <td>1</td>\n",
       "      <td>2</td>\n",
       "      <td>1</td>\n",
       "      <td>37107.0</td>\n",
       "      <td>4.0</td>\n",
       "      <td>239.0</td>\n",
       "      <td>0.0</td>\n",
       "    </tr>\n",
       "    <tr>\n",
       "      <th>2</th>\n",
       "      <td>1.0</td>\n",
       "      <td>0</td>\n",
       "      <td>44.0</td>\n",
       "      <td>1.0</td>\n",
       "      <td>28.0</td>\n",
       "      <td>1</td>\n",
       "      <td>2</td>\n",
       "      <td>1</td>\n",
       "      <td>50889.0</td>\n",
       "      <td>26.0</td>\n",
       "      <td>247.0</td>\n",
       "      <td>0.0</td>\n",
       "    </tr>\n",
       "    <tr>\n",
       "      <th>3</th>\n",
       "      <td>1.0</td>\n",
       "      <td>0</td>\n",
       "      <td>44.0</td>\n",
       "      <td>1.0</td>\n",
       "      <td>28.0</td>\n",
       "      <td>1</td>\n",
       "      <td>2</td>\n",
       "      <td>1</td>\n",
       "      <td>31868.0</td>\n",
       "      <td>125.0</td>\n",
       "      <td>140.0</td>\n",
       "      <td>0.0</td>\n",
       "    </tr>\n",
       "    <tr>\n",
       "      <th>4</th>\n",
       "      <td>1.0</td>\n",
       "      <td>0</td>\n",
       "      <td>44.0</td>\n",
       "      <td>1.0</td>\n",
       "      <td>28.0</td>\n",
       "      <td>1</td>\n",
       "      <td>2</td>\n",
       "      <td>1</td>\n",
       "      <td>22679.0</td>\n",
       "      <td>29.0</td>\n",
       "      <td>174.0</td>\n",
       "      <td>0.0</td>\n",
       "    </tr>\n",
       "    <tr>\n",
       "      <th>...</th>\n",
       "      <td>...</td>\n",
       "      <td>...</td>\n",
       "      <td>...</td>\n",
       "      <td>...</td>\n",
       "      <td>...</td>\n",
       "      <td>...</td>\n",
       "      <td>...</td>\n",
       "      <td>...</td>\n",
       "      <td>...</td>\n",
       "      <td>...</td>\n",
       "      <td>...</td>\n",
       "      <td>...</td>\n",
       "    </tr>\n",
       "    <tr>\n",
       "      <th>183251</th>\n",
       "      <td>183035.0</td>\n",
       "      <td>1</td>\n",
       "      <td>23.0</td>\n",
       "      <td>1.0</td>\n",
       "      <td>7.0</td>\n",
       "      <td>0</td>\n",
       "      <td>0</td>\n",
       "      <td>0</td>\n",
       "      <td>2630.0</td>\n",
       "      <td>160.0</td>\n",
       "      <td>100.0</td>\n",
       "      <td>0.0</td>\n",
       "    </tr>\n",
       "    <tr>\n",
       "      <th>183252</th>\n",
       "      <td>183036.0</td>\n",
       "      <td>1</td>\n",
       "      <td>25.0</td>\n",
       "      <td>1.0</td>\n",
       "      <td>34.0</td>\n",
       "      <td>1</td>\n",
       "      <td>0</td>\n",
       "      <td>0</td>\n",
       "      <td>34908.0</td>\n",
       "      <td>152.0</td>\n",
       "      <td>294.0</td>\n",
       "      <td>0.0</td>\n",
       "    </tr>\n",
       "    <tr>\n",
       "      <th>183253</th>\n",
       "      <td>183037.0</td>\n",
       "      <td>0</td>\n",
       "      <td>21.0</td>\n",
       "      <td>1.0</td>\n",
       "      <td>46.0</td>\n",
       "      <td>0</td>\n",
       "      <td>0</td>\n",
       "      <td>0</td>\n",
       "      <td>37320.0</td>\n",
       "      <td>160.0</td>\n",
       "      <td>63.0</td>\n",
       "      <td>0.0</td>\n",
       "    </tr>\n",
       "    <tr>\n",
       "      <th>183254</th>\n",
       "      <td>183038.0</td>\n",
       "      <td>0</td>\n",
       "      <td>32.0</td>\n",
       "      <td>1.0</td>\n",
       "      <td>18.0</td>\n",
       "      <td>0</td>\n",
       "      <td>0</td>\n",
       "      <td>0</td>\n",
       "      <td>27498.0</td>\n",
       "      <td>152.0</td>\n",
       "      <td>118.0</td>\n",
       "      <td>0.0</td>\n",
       "    </tr>\n",
       "    <tr>\n",
       "      <th>183255</th>\n",
       "      <td>183039.0</td>\n",
       "      <td>1</td>\n",
       "      <td>20.0</td>\n",
       "      <td>1.0</td>\n",
       "      <td>28.0</td>\n",
       "      <td>1</td>\n",
       "      <td>1</td>\n",
       "      <td>1</td>\n",
       "      <td>35900.0</td>\n",
       "      <td>160.0</td>\n",
       "      <td>81.0</td>\n",
       "      <td>1.0</td>\n",
       "    </tr>\n",
       "  </tbody>\n",
       "</table>\n",
       "<p>183256 rows × 12 columns</p>\n",
       "</div>"
      ],
      "text/plain": [
       "        customer_id  Gender   age  driving_licence_present  region code  \\\n",
       "0               1.0       0  44.0                      1.0         28.0   \n",
       "1               1.0       0  44.0                      1.0         28.0   \n",
       "2               1.0       0  44.0                      1.0         28.0   \n",
       "3               1.0       0  44.0                      1.0         28.0   \n",
       "4               1.0       0  44.0                      1.0         28.0   \n",
       "...             ...     ...   ...                      ...          ...   \n",
       "183251     183035.0       1  23.0                      1.0          7.0   \n",
       "183252     183036.0       1  25.0                      1.0         34.0   \n",
       "183253     183037.0       0  21.0                      1.0         46.0   \n",
       "183254     183038.0       0  32.0                      1.0         18.0   \n",
       "183255     183039.0       1  20.0                      1.0         28.0   \n",
       "\n",
       "        previously_insured  vehicle_age  vehicle_damage  \\\n",
       "0                        1            2               1   \n",
       "1                        1            2               1   \n",
       "2                        1            2               1   \n",
       "3                        1            2               1   \n",
       "4                        1            2               1   \n",
       "...                    ...          ...             ...   \n",
       "183251                   0            0               0   \n",
       "183252                   1            0               0   \n",
       "183253                   0            0               0   \n",
       "183254                   0            0               0   \n",
       "183255                   1            1               1   \n",
       "\n",
       "        annual premium (in Rs)  sales channel code  vintage  response  \n",
       "0                      40454.0                26.0    217.0       1.0  \n",
       "1                      37107.0                 4.0    239.0       0.0  \n",
       "2                      50889.0                26.0    247.0       0.0  \n",
       "3                      31868.0               125.0    140.0       0.0  \n",
       "4                      22679.0                29.0    174.0       0.0  \n",
       "...                        ...                 ...      ...       ...  \n",
       "183251                  2630.0               160.0    100.0       0.0  \n",
       "183252                 34908.0               152.0    294.0       0.0  \n",
       "183253                 37320.0               160.0     63.0       0.0  \n",
       "183254                 27498.0               152.0    118.0       0.0  \n",
       "183255                 35900.0               160.0     81.0       1.0  \n",
       "\n",
       "[183256 rows x 12 columns]"
      ]
     },
     "execution_count": 247,
     "metadata": {},
     "output_type": "execute_result"
    }
   ],
   "source": [
    "master_data"
   ]
  },
  {
   "cell_type": "code",
   "execution_count": 252,
   "id": "7b4534a1",
   "metadata": {},
   "outputs": [
    {
     "data": {
      "text/html": [
       "<div>\n",
       "<style scoped>\n",
       "    .dataframe tbody tr th:only-of-type {\n",
       "        vertical-align: middle;\n",
       "    }\n",
       "\n",
       "    .dataframe tbody tr th {\n",
       "        vertical-align: top;\n",
       "    }\n",
       "\n",
       "    .dataframe thead th {\n",
       "        text-align: right;\n",
       "    }\n",
       "</style>\n",
       "<table border=\"1\" class=\"dataframe\">\n",
       "  <thead>\n",
       "    <tr style=\"text-align: right;\">\n",
       "      <th></th>\n",
       "      <th>customer_id</th>\n",
       "      <th>age</th>\n",
       "      <th>driving_licence_present</th>\n",
       "      <th>region code</th>\n",
       "      <th>previously_insured</th>\n",
       "      <th>vehicle_age</th>\n",
       "      <th>vehicle_damage</th>\n",
       "      <th>annual premium (in Rs)</th>\n",
       "      <th>sales channel code</th>\n",
       "      <th>vintage</th>\n",
       "      <th>response</th>\n",
       "    </tr>\n",
       "    <tr>\n",
       "      <th>Gender</th>\n",
       "      <th></th>\n",
       "      <th></th>\n",
       "      <th></th>\n",
       "      <th></th>\n",
       "      <th></th>\n",
       "      <th></th>\n",
       "      <th></th>\n",
       "      <th></th>\n",
       "      <th></th>\n",
       "      <th></th>\n",
       "      <th></th>\n",
       "    </tr>\n",
       "  </thead>\n",
       "  <tbody>\n",
       "    <tr>\n",
       "      <th>0</th>\n",
       "      <td>9.061406e+09</td>\n",
       "      <td>4058953.0</td>\n",
       "      <td>98978.0</td>\n",
       "      <td>2619531.0</td>\n",
       "      <td>57844</td>\n",
       "      <td>69258</td>\n",
       "      <td>54615</td>\n",
       "      <td>3.035355e+09</td>\n",
       "      <td>10579840.0</td>\n",
       "      <td>15336779.0</td>\n",
       "      <td>13702.0</td>\n",
       "    </tr>\n",
       "    <tr>\n",
       "      <th>1</th>\n",
       "      <td>7.675460e+09</td>\n",
       "      <td>3052600.0</td>\n",
       "      <td>83891.0</td>\n",
       "      <td>2220468.0</td>\n",
       "      <td>41984</td>\n",
       "      <td>43048</td>\n",
       "      <td>38356</td>\n",
       "      <td>2.554148e+09</td>\n",
       "      <td>9968607.0</td>\n",
       "      <td>12982548.0</td>\n",
       "      <td>8758.0</td>\n",
       "    </tr>\n",
       "  </tbody>\n",
       "</table>\n",
       "</div>"
      ],
      "text/plain": [
       "         customer_id        age  driving_licence_present  region code  \\\n",
       "Gender                                                                  \n",
       "0       9.061406e+09  4058953.0                  98978.0    2619531.0   \n",
       "1       7.675460e+09  3052600.0                  83891.0    2220468.0   \n",
       "\n",
       "        previously_insured  vehicle_age  vehicle_damage  \\\n",
       "Gender                                                    \n",
       "0                    57844        69258           54615   \n",
       "1                    41984        43048           38356   \n",
       "\n",
       "        annual premium (in Rs)  sales channel code     vintage  response  \n",
       "Gender                                                                    \n",
       "0                 3.035355e+09          10579840.0  15336779.0   13702.0  \n",
       "1                 2.554148e+09           9968607.0  12982548.0    8758.0  "
      ]
     },
     "execution_count": 252,
     "metadata": {},
     "output_type": "execute_result"
    }
   ],
   "source": [
    "master_data.groupby('Gender',0).sum()"
   ]
  },
  {
   "cell_type": "markdown",
   "id": "ffbd1232",
   "metadata": {},
   "source": [
    "### 5. Is there any relation between Person Age and annual premium?\n",
    "\n",
    "##### Hint: use correlation function (Correlation describes the relationship between two variables). \n",
    "\n",
    "##### Correlation coefficient < -0.5           - Strong negative relationship\n",
    "\n",
    "##### Correlation coefficient > 0.5            -  Strong positive relationship\n",
    "\n",
    "##### 0.5 < Correlation coefficient < 0.5   - There is no relationship. "
   ]
  },
  {
   "cell_type": "code",
   "execution_count": 253,
   "id": "ed0d7b6c",
   "metadata": {},
   "outputs": [
    {
     "data": {
      "image/png": "[encoded data removed]",
      "text/plain": [
       "<Figure size 432x288 with 2 Axes>"
      ]
     },
     "metadata": {
      "needs_background": "light"
     },
     "output_type": "display_data"
    }
   ],
   "source": [
    "corrMatrix = master_data.corr()\n",
    "sns.heatmap(corrMatrix, annot = True)\n",
    "plt.show()"
   ]
  },
  {
   "cell_type": "code",
   "execution_count": null,
   "id": "bc161b3f",
   "metadata": {},
   "outputs": [],
   "source": []
  }
 ],
 "metadata": {
  "kernelspec": {
   "display_name": "Python 3 (ipykernel)",
   "language": "python",
   "name": "python3"
  },
  "language_info": {
   "codemirror_mode": {
    "name": "ipython",
    "version": 3
   },
   "file_extension": ".py",
   "mimetype": "text/x-python",
   "name": "python",
   "nbconvert_exporter": "python",
   "pygments_lexer": "ipython3",
   "version": "3.9.12"
  }
 },
 "nbformat": 4,
 "nbformat_minor": 5
}
